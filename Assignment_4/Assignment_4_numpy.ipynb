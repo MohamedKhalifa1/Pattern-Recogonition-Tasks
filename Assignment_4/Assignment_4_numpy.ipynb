{
  "nbformat": 4,
  "nbformat_minor": 0,
  "metadata": {
    "colab": {
      "provenance": [],
      "gpuType": "T4"
    },
    "kernelspec": {
      "name": "python3",
      "display_name": "Python 3"
    },
    "language_info": {
      "name": "python"
    },
    "accelerator": "GPU"
  },
  "cells": [
    {
      "cell_type": "code",
      "source": [
        "!pip install ucimlrepo"
      ],
      "metadata": {
        "colab": {
          "base_uri": "https://localhost:8080/"
        },
        "id": "pIfa5KgluIwT",
        "outputId": "78d8293f-4ae8-45d1-d25a-46173b3b5ef9"
      },
      "execution_count": null,
      "outputs": [
        {
          "output_type": "stream",
          "name": "stdout",
          "text": [
            "Collecting ucimlrepo\n",
            "  Downloading ucimlrepo-0.0.3-py3-none-any.whl (7.0 kB)\n",
            "Installing collected packages: ucimlrepo\n",
            "Successfully installed ucimlrepo-0.0.3\n"
          ]
        }
      ]
    },
    {
      "cell_type": "code",
      "execution_count": null,
      "metadata": {
        "id": "wUQOsXQUsyBa"
      },
      "outputs": [],
      "source": [
        "import numpy as np\n",
        "import pandas as pd\n",
        "import matplotlib.pyplot as plt\n",
        "import seaborn as sns\n",
        "import tensorflow as tf\n",
        "from sklearn.model_selection import train_test_split\n",
        "from tensorflow.keras.models import Sequential\n",
        "from tensorflow.keras.layers import Dense , InputLayer , Dropout\n",
        "from tensorflow.keras.optimizers import Adam\n",
        "from tensorflow.keras.losses import CategoricalCrossentropy\n",
        "from tensorflow.keras.metrics import Precision , Recall ,F1Score\n",
        "from ucimlrepo import fetch_ucirepo\n",
        "from tensorflow.keras.utils import to_categorical\n",
        "from sklearn.preprocessing import StandardScaler\n",
        "from sklearn.metrics import confusion_matrix\n",
        "from sklearn.metrics import classification_report"
      ]
    },
    {
      "cell_type": "code",
      "source": [
        "optical_recognition_of_handwritten_digits = fetch_ucirepo(id=80)"
      ],
      "metadata": {
        "id": "xmelPGk5tsPO"
      },
      "execution_count": null,
      "outputs": []
    },
    {
      "cell_type": "code",
      "source": [
        "X = optical_recognition_of_handwritten_digits.data.features\n",
        "y = optical_recognition_of_handwritten_digits.data.targets"
      ],
      "metadata": {
        "id": "AltDLFxIt85L"
      },
      "execution_count": null,
      "outputs": []
    },
    {
      "cell_type": "code",
      "source": [
        "print(optical_recognition_of_handwritten_digits.metadata)"
      ],
      "metadata": {
        "colab": {
          "base_uri": "https://localhost:8080/"
        },
        "id": "Wtp0YnCot8Xt",
        "outputId": "fffccbd8-0c99-4cce-ffd2-28e9947c0ae4"
      },
      "execution_count": null,
      "outputs": [
        {
          "output_type": "stream",
          "name": "stdout",
          "text": [
            "{'uci_id': 80, 'name': 'Optical Recognition of Handwritten Digits', 'repository_url': 'https://archive.ics.uci.edu/dataset/80/optical+recognition+of+handwritten+digits', 'data_url': 'https://archive.ics.uci.edu/static/public/80/data.csv', 'abstract': 'Two versions of this database available; see folder', 'area': 'Computer Science', 'tasks': ['Classification'], 'characteristics': ['Multivariate'], 'num_instances': 5620, 'num_features': 64, 'feature_types': ['Integer'], 'demographics': [], 'target_col': ['class'], 'index_col': None, 'has_missing_values': 'no', 'missing_values_symbol': None, 'year_of_dataset_creation': 1998, 'last_updated': 'Wed Aug 23 2023', 'dataset_doi': '10.24432/C50P49', 'creators': ['E. Alpaydin', 'C. Kaynak'], 'intro_paper': {'title': 'Methods of Combining Multiple Classifiers and Their Applications to Handwritten Digit Recognition', 'authors': 'C. Kaynak', 'published_in': 'MSc Thesis, Institute of Graduate Studies in Science and Engineering, Bogazici University', 'year': 1995, 'url': None, 'doi': None}, 'additional_info': {'summary': 'We used preprocessing programs made available by NIST to extract normalized bitmaps of handwritten digits from a preprinted form. From a total of 43 people, 30 contributed to the training set and different 13 to the test set. 32x32 bitmaps are divided into nonoverlapping blocks of 4x4 and the number of on pixels are counted in each block. This generates an input matrix of 8x8 where each element is an integer in the range 0..16. This reduces dimensionality and gives invariance to small distortions.\\r\\n\\r\\nFor info on NIST preprocessing routines, see M. D. Garris, J. L. Blue, G. T. Candela, D. L. Dimmick, J. Geist, P. J. Grother, S. A. Janet, and C. L. Wilson, NIST Form-Based Handprint Recognition System, NISTIR 5469, 1994.', 'purpose': None, 'funded_by': None, 'instances_represent': None, 'recommended_data_splits': None, 'sensitive_data': None, 'preprocessing_description': None, 'variable_info': 'All input attributes are integers in the range 0..16.\\r\\nThe last attribute is the class code 0..9', 'citation': None}}\n"
          ]
        }
      ]
    },
    {
      "cell_type": "code",
      "source": [
        "print(optical_recognition_of_handwritten_digits.variables)"
      ],
      "metadata": {
        "colab": {
          "base_uri": "https://localhost:8080/"
        },
        "id": "xv7WrKCJuXnz",
        "outputId": "1bfc1245-52fd-4d72-ccb9-29591ddac8a8"
      },
      "execution_count": null,
      "outputs": [
        {
          "output_type": "stream",
          "name": "stdout",
          "text": [
            "           name     role         type demographic description units  \\\n",
            "0    Attribute1  Feature      Integer        None        None  None   \n",
            "1    Attribute2  Feature      Integer        None        None  None   \n",
            "2    Attribute3  Feature      Integer        None        None  None   \n",
            "3    Attribute4  Feature      Integer        None        None  None   \n",
            "4    Attribute5  Feature      Integer        None        None  None   \n",
            "..          ...      ...          ...         ...         ...   ...   \n",
            "60  Attribute61  Feature      Integer        None        None  None   \n",
            "61  Attribute62  Feature      Integer        None        None  None   \n",
            "62  Attribute63  Feature      Integer        None        None  None   \n",
            "63  Attribute64  Feature      Integer        None        None  None   \n",
            "64        class   Target  Categorical        None        None  None   \n",
            "\n",
            "   missing_values  \n",
            "0              no  \n",
            "1              no  \n",
            "2              no  \n",
            "3              no  \n",
            "4              no  \n",
            "..            ...  \n",
            "60             no  \n",
            "61             no  \n",
            "62             no  \n",
            "63             no  \n",
            "64             no  \n",
            "\n",
            "[65 rows x 7 columns]\n"
          ]
        }
      ]
    },
    {
      "cell_type": "code",
      "source": [
        "X"
      ],
      "metadata": {
        "colab": {
          "base_uri": "https://localhost:8080/",
          "height": 443
        },
        "id": "HM0KUWg4uYWz",
        "outputId": "df5c6fc3-c99a-473d-cad4-2751b2edaed4"
      },
      "execution_count": null,
      "outputs": [
        {
          "output_type": "execute_result",
          "data": {
            "text/plain": [
              "      Attribute1  Attribute2  Attribute3  Attribute4  Attribute5  Attribute6  \\\n",
              "0              0           1           6          15          12           1   \n",
              "1              0           0          10          16           6           0   \n",
              "2              0           0           8          15          16          13   \n",
              "3              0           0           0           3          11          16   \n",
              "4              0           0           5          14           4           0   \n",
              "...          ...         ...         ...         ...         ...         ...   \n",
              "5615           0           0           4          10          13           6   \n",
              "5616           0           0           6          16          13          11   \n",
              "5617           0           0           1          11          15           1   \n",
              "5618           0           0           2          10           7           0   \n",
              "5619           0           0          10          14           8           1   \n",
              "\n",
              "      Attribute7  Attribute8  Attribute9  Attribute10  ...  Attribute55  \\\n",
              "0              0           0           0            7  ...            0   \n",
              "1              0           0           0            7  ...            3   \n",
              "2              0           0           0            1  ...            0   \n",
              "3              0           0           0            0  ...            0   \n",
              "4              0           0           0            0  ...           12   \n",
              "...          ...         ...         ...          ...  ...          ...   \n",
              "5615           0           0           0            1  ...            4   \n",
              "5616           1           0           0            0  ...            1   \n",
              "5617           0           0           0            0  ...            0   \n",
              "5618           0           0           0            0  ...            2   \n",
              "5619           0           0           0            2  ...            8   \n",
              "\n",
              "      Attribute56  Attribute57  Attribute58  Attribute59  Attribute60  \\\n",
              "0               0            0            0            6           14   \n",
              "1               0            0            0           10           16   \n",
              "2               0            0            0            9           14   \n",
              "3               0            0            0            0            1   \n",
              "4               0            0            0            4           12   \n",
              "...           ...          ...          ...          ...          ...   \n",
              "5615            0            0            0            2           14   \n",
              "5616            0            0            0            6           16   \n",
              "5617            0            0            0            2            9   \n",
              "5618            0            0            0            5           12   \n",
              "5619            0            0            1            8           12   \n",
              "\n",
              "      Attribute61  Attribute62  Attribute63  Attribute64  \n",
              "0               7            1            0            0  \n",
              "1              15            3            0            0  \n",
              "2               0            0            0            0  \n",
              "3              15            2            0            0  \n",
              "4              14            7            0            0  \n",
              "...           ...          ...          ...          ...  \n",
              "5615           15            9            0            0  \n",
              "5616           14            6            0            0  \n",
              "5617           13            6            0            0  \n",
              "5618           16           12            0            0  \n",
              "5619           14           12            1            0  \n",
              "\n",
              "[5620 rows x 64 columns]"
            ],
            "text/html": [
              "\n",
              "  <div id=\"df-6815f5a0-731f-4f75-a6cc-349795cae0e6\" class=\"colab-df-container\">\n",
              "    <div>\n",
              "<style scoped>\n",
              "    .dataframe tbody tr th:only-of-type {\n",
              "        vertical-align: middle;\n",
              "    }\n",
              "\n",
              "    .dataframe tbody tr th {\n",
              "        vertical-align: top;\n",
              "    }\n",
              "\n",
              "    .dataframe thead th {\n",
              "        text-align: right;\n",
              "    }\n",
              "</style>\n",
              "<table border=\"1\" class=\"dataframe\">\n",
              "  <thead>\n",
              "    <tr style=\"text-align: right;\">\n",
              "      <th></th>\n",
              "      <th>Attribute1</th>\n",
              "      <th>Attribute2</th>\n",
              "      <th>Attribute3</th>\n",
              "      <th>Attribute4</th>\n",
              "      <th>Attribute5</th>\n",
              "      <th>Attribute6</th>\n",
              "      <th>Attribute7</th>\n",
              "      <th>Attribute8</th>\n",
              "      <th>Attribute9</th>\n",
              "      <th>Attribute10</th>\n",
              "      <th>...</th>\n",
              "      <th>Attribute55</th>\n",
              "      <th>Attribute56</th>\n",
              "      <th>Attribute57</th>\n",
              "      <th>Attribute58</th>\n",
              "      <th>Attribute59</th>\n",
              "      <th>Attribute60</th>\n",
              "      <th>Attribute61</th>\n",
              "      <th>Attribute62</th>\n",
              "      <th>Attribute63</th>\n",
              "      <th>Attribute64</th>\n",
              "    </tr>\n",
              "  </thead>\n",
              "  <tbody>\n",
              "    <tr>\n",
              "      <th>0</th>\n",
              "      <td>0</td>\n",
              "      <td>1</td>\n",
              "      <td>6</td>\n",
              "      <td>15</td>\n",
              "      <td>12</td>\n",
              "      <td>1</td>\n",
              "      <td>0</td>\n",
              "      <td>0</td>\n",
              "      <td>0</td>\n",
              "      <td>7</td>\n",
              "      <td>...</td>\n",
              "      <td>0</td>\n",
              "      <td>0</td>\n",
              "      <td>0</td>\n",
              "      <td>0</td>\n",
              "      <td>6</td>\n",
              "      <td>14</td>\n",
              "      <td>7</td>\n",
              "      <td>1</td>\n",
              "      <td>0</td>\n",
              "      <td>0</td>\n",
              "    </tr>\n",
              "    <tr>\n",
              "      <th>1</th>\n",
              "      <td>0</td>\n",
              "      <td>0</td>\n",
              "      <td>10</td>\n",
              "      <td>16</td>\n",
              "      <td>6</td>\n",
              "      <td>0</td>\n",
              "      <td>0</td>\n",
              "      <td>0</td>\n",
              "      <td>0</td>\n",
              "      <td>7</td>\n",
              "      <td>...</td>\n",
              "      <td>3</td>\n",
              "      <td>0</td>\n",
              "      <td>0</td>\n",
              "      <td>0</td>\n",
              "      <td>10</td>\n",
              "      <td>16</td>\n",
              "      <td>15</td>\n",
              "      <td>3</td>\n",
              "      <td>0</td>\n",
              "      <td>0</td>\n",
              "    </tr>\n",
              "    <tr>\n",
              "      <th>2</th>\n",
              "      <td>0</td>\n",
              "      <td>0</td>\n",
              "      <td>8</td>\n",
              "      <td>15</td>\n",
              "      <td>16</td>\n",
              "      <td>13</td>\n",
              "      <td>0</td>\n",
              "      <td>0</td>\n",
              "      <td>0</td>\n",
              "      <td>1</td>\n",
              "      <td>...</td>\n",
              "      <td>0</td>\n",
              "      <td>0</td>\n",
              "      <td>0</td>\n",
              "      <td>0</td>\n",
              "      <td>9</td>\n",
              "      <td>14</td>\n",
              "      <td>0</td>\n",
              "      <td>0</td>\n",
              "      <td>0</td>\n",
              "      <td>0</td>\n",
              "    </tr>\n",
              "    <tr>\n",
              "      <th>3</th>\n",
              "      <td>0</td>\n",
              "      <td>0</td>\n",
              "      <td>0</td>\n",
              "      <td>3</td>\n",
              "      <td>11</td>\n",
              "      <td>16</td>\n",
              "      <td>0</td>\n",
              "      <td>0</td>\n",
              "      <td>0</td>\n",
              "      <td>0</td>\n",
              "      <td>...</td>\n",
              "      <td>0</td>\n",
              "      <td>0</td>\n",
              "      <td>0</td>\n",
              "      <td>0</td>\n",
              "      <td>0</td>\n",
              "      <td>1</td>\n",
              "      <td>15</td>\n",
              "      <td>2</td>\n",
              "      <td>0</td>\n",
              "      <td>0</td>\n",
              "    </tr>\n",
              "    <tr>\n",
              "      <th>4</th>\n",
              "      <td>0</td>\n",
              "      <td>0</td>\n",
              "      <td>5</td>\n",
              "      <td>14</td>\n",
              "      <td>4</td>\n",
              "      <td>0</td>\n",
              "      <td>0</td>\n",
              "      <td>0</td>\n",
              "      <td>0</td>\n",
              "      <td>0</td>\n",
              "      <td>...</td>\n",
              "      <td>12</td>\n",
              "      <td>0</td>\n",
              "      <td>0</td>\n",
              "      <td>0</td>\n",
              "      <td>4</td>\n",
              "      <td>12</td>\n",
              "      <td>14</td>\n",
              "      <td>7</td>\n",
              "      <td>0</td>\n",
              "      <td>0</td>\n",
              "    </tr>\n",
              "    <tr>\n",
              "      <th>...</th>\n",
              "      <td>...</td>\n",
              "      <td>...</td>\n",
              "      <td>...</td>\n",
              "      <td>...</td>\n",
              "      <td>...</td>\n",
              "      <td>...</td>\n",
              "      <td>...</td>\n",
              "      <td>...</td>\n",
              "      <td>...</td>\n",
              "      <td>...</td>\n",
              "      <td>...</td>\n",
              "      <td>...</td>\n",
              "      <td>...</td>\n",
              "      <td>...</td>\n",
              "      <td>...</td>\n",
              "      <td>...</td>\n",
              "      <td>...</td>\n",
              "      <td>...</td>\n",
              "      <td>...</td>\n",
              "      <td>...</td>\n",
              "      <td>...</td>\n",
              "    </tr>\n",
              "    <tr>\n",
              "      <th>5615</th>\n",
              "      <td>0</td>\n",
              "      <td>0</td>\n",
              "      <td>4</td>\n",
              "      <td>10</td>\n",
              "      <td>13</td>\n",
              "      <td>6</td>\n",
              "      <td>0</td>\n",
              "      <td>0</td>\n",
              "      <td>0</td>\n",
              "      <td>1</td>\n",
              "      <td>...</td>\n",
              "      <td>4</td>\n",
              "      <td>0</td>\n",
              "      <td>0</td>\n",
              "      <td>0</td>\n",
              "      <td>2</td>\n",
              "      <td>14</td>\n",
              "      <td>15</td>\n",
              "      <td>9</td>\n",
              "      <td>0</td>\n",
              "      <td>0</td>\n",
              "    </tr>\n",
              "    <tr>\n",
              "      <th>5616</th>\n",
              "      <td>0</td>\n",
              "      <td>0</td>\n",
              "      <td>6</td>\n",
              "      <td>16</td>\n",
              "      <td>13</td>\n",
              "      <td>11</td>\n",
              "      <td>1</td>\n",
              "      <td>0</td>\n",
              "      <td>0</td>\n",
              "      <td>0</td>\n",
              "      <td>...</td>\n",
              "      <td>1</td>\n",
              "      <td>0</td>\n",
              "      <td>0</td>\n",
              "      <td>0</td>\n",
              "      <td>6</td>\n",
              "      <td>16</td>\n",
              "      <td>14</td>\n",
              "      <td>6</td>\n",
              "      <td>0</td>\n",
              "      <td>0</td>\n",
              "    </tr>\n",
              "    <tr>\n",
              "      <th>5617</th>\n",
              "      <td>0</td>\n",
              "      <td>0</td>\n",
              "      <td>1</td>\n",
              "      <td>11</td>\n",
              "      <td>15</td>\n",
              "      <td>1</td>\n",
              "      <td>0</td>\n",
              "      <td>0</td>\n",
              "      <td>0</td>\n",
              "      <td>0</td>\n",
              "      <td>...</td>\n",
              "      <td>0</td>\n",
              "      <td>0</td>\n",
              "      <td>0</td>\n",
              "      <td>0</td>\n",
              "      <td>2</td>\n",
              "      <td>9</td>\n",
              "      <td>13</td>\n",
              "      <td>6</td>\n",
              "      <td>0</td>\n",
              "      <td>0</td>\n",
              "    </tr>\n",
              "    <tr>\n",
              "      <th>5618</th>\n",
              "      <td>0</td>\n",
              "      <td>0</td>\n",
              "      <td>2</td>\n",
              "      <td>10</td>\n",
              "      <td>7</td>\n",
              "      <td>0</td>\n",
              "      <td>0</td>\n",
              "      <td>0</td>\n",
              "      <td>0</td>\n",
              "      <td>0</td>\n",
              "      <td>...</td>\n",
              "      <td>2</td>\n",
              "      <td>0</td>\n",
              "      <td>0</td>\n",
              "      <td>0</td>\n",
              "      <td>5</td>\n",
              "      <td>12</td>\n",
              "      <td>16</td>\n",
              "      <td>12</td>\n",
              "      <td>0</td>\n",
              "      <td>0</td>\n",
              "    </tr>\n",
              "    <tr>\n",
              "      <th>5619</th>\n",
              "      <td>0</td>\n",
              "      <td>0</td>\n",
              "      <td>10</td>\n",
              "      <td>14</td>\n",
              "      <td>8</td>\n",
              "      <td>1</td>\n",
              "      <td>0</td>\n",
              "      <td>0</td>\n",
              "      <td>0</td>\n",
              "      <td>2</td>\n",
              "      <td>...</td>\n",
              "      <td>8</td>\n",
              "      <td>0</td>\n",
              "      <td>0</td>\n",
              "      <td>1</td>\n",
              "      <td>8</td>\n",
              "      <td>12</td>\n",
              "      <td>14</td>\n",
              "      <td>12</td>\n",
              "      <td>1</td>\n",
              "      <td>0</td>\n",
              "    </tr>\n",
              "  </tbody>\n",
              "</table>\n",
              "<p>5620 rows × 64 columns</p>\n",
              "</div>\n",
              "    <div class=\"colab-df-buttons\">\n",
              "\n",
              "  <div class=\"colab-df-container\">\n",
              "    <button class=\"colab-df-convert\" onclick=\"convertToInteractive('df-6815f5a0-731f-4f75-a6cc-349795cae0e6')\"\n",
              "            title=\"Convert this dataframe to an interactive table.\"\n",
              "            style=\"display:none;\">\n",
              "\n",
              "  <svg xmlns=\"http://www.w3.org/2000/svg\" height=\"24px\" viewBox=\"0 -960 960 960\">\n",
              "    <path d=\"M120-120v-720h720v720H120Zm60-500h600v-160H180v160Zm220 220h160v-160H400v160Zm0 220h160v-160H400v160ZM180-400h160v-160H180v160Zm440 0h160v-160H620v160ZM180-180h160v-160H180v160Zm440 0h160v-160H620v160Z\"/>\n",
              "  </svg>\n",
              "    </button>\n",
              "\n",
              "  <style>\n",
              "    .colab-df-container {\n",
              "      display:flex;\n",
              "      gap: 12px;\n",
              "    }\n",
              "\n",
              "    .colab-df-convert {\n",
              "      background-color: #E8F0FE;\n",
              "      border: none;\n",
              "      border-radius: 50%;\n",
              "      cursor: pointer;\n",
              "      display: none;\n",
              "      fill: #1967D2;\n",
              "      height: 32px;\n",
              "      padding: 0 0 0 0;\n",
              "      width: 32px;\n",
              "    }\n",
              "\n",
              "    .colab-df-convert:hover {\n",
              "      background-color: #E2EBFA;\n",
              "      box-shadow: 0px 1px 2px rgba(60, 64, 67, 0.3), 0px 1px 3px 1px rgba(60, 64, 67, 0.15);\n",
              "      fill: #174EA6;\n",
              "    }\n",
              "\n",
              "    .colab-df-buttons div {\n",
              "      margin-bottom: 4px;\n",
              "    }\n",
              "\n",
              "    [theme=dark] .colab-df-convert {\n",
              "      background-color: #3B4455;\n",
              "      fill: #D2E3FC;\n",
              "    }\n",
              "\n",
              "    [theme=dark] .colab-df-convert:hover {\n",
              "      background-color: #434B5C;\n",
              "      box-shadow: 0px 1px 3px 1px rgba(0, 0, 0, 0.15);\n",
              "      filter: drop-shadow(0px 1px 2px rgba(0, 0, 0, 0.3));\n",
              "      fill: #FFFFFF;\n",
              "    }\n",
              "  </style>\n",
              "\n",
              "    <script>\n",
              "      const buttonEl =\n",
              "        document.querySelector('#df-6815f5a0-731f-4f75-a6cc-349795cae0e6 button.colab-df-convert');\n",
              "      buttonEl.style.display =\n",
              "        google.colab.kernel.accessAllowed ? 'block' : 'none';\n",
              "\n",
              "      async function convertToInteractive(key) {\n",
              "        const element = document.querySelector('#df-6815f5a0-731f-4f75-a6cc-349795cae0e6');\n",
              "        const dataTable =\n",
              "          await google.colab.kernel.invokeFunction('convertToInteractive',\n",
              "                                                    [key], {});\n",
              "        if (!dataTable) return;\n",
              "\n",
              "        const docLinkHtml = 'Like what you see? Visit the ' +\n",
              "          '<a target=\"_blank\" href=https://colab.research.google.com/notebooks/data_table.ipynb>data table notebook</a>'\n",
              "          + ' to learn more about interactive tables.';\n",
              "        element.innerHTML = '';\n",
              "        dataTable['output_type'] = 'display_data';\n",
              "        await google.colab.output.renderOutput(dataTable, element);\n",
              "        const docLink = document.createElement('div');\n",
              "        docLink.innerHTML = docLinkHtml;\n",
              "        element.appendChild(docLink);\n",
              "      }\n",
              "    </script>\n",
              "  </div>\n",
              "\n",
              "\n",
              "<div id=\"df-ad337545-674e-4af2-b29e-47684a3b5ab3\">\n",
              "  <button class=\"colab-df-quickchart\" onclick=\"quickchart('df-ad337545-674e-4af2-b29e-47684a3b5ab3')\"\n",
              "            title=\"Suggest charts\"\n",
              "            style=\"display:none;\">\n",
              "\n",
              "<svg xmlns=\"http://www.w3.org/2000/svg\" height=\"24px\"viewBox=\"0 0 24 24\"\n",
              "     width=\"24px\">\n",
              "    <g>\n",
              "        <path d=\"M19 3H5c-1.1 0-2 .9-2 2v14c0 1.1.9 2 2 2h14c1.1 0 2-.9 2-2V5c0-1.1-.9-2-2-2zM9 17H7v-7h2v7zm4 0h-2V7h2v10zm4 0h-2v-4h2v4z\"/>\n",
              "    </g>\n",
              "</svg>\n",
              "  </button>\n",
              "\n",
              "<style>\n",
              "  .colab-df-quickchart {\n",
              "      --bg-color: #E8F0FE;\n",
              "      --fill-color: #1967D2;\n",
              "      --hover-bg-color: #E2EBFA;\n",
              "      --hover-fill-color: #174EA6;\n",
              "      --disabled-fill-color: #AAA;\n",
              "      --disabled-bg-color: #DDD;\n",
              "  }\n",
              "\n",
              "  [theme=dark] .colab-df-quickchart {\n",
              "      --bg-color: #3B4455;\n",
              "      --fill-color: #D2E3FC;\n",
              "      --hover-bg-color: #434B5C;\n",
              "      --hover-fill-color: #FFFFFF;\n",
              "      --disabled-bg-color: #3B4455;\n",
              "      --disabled-fill-color: #666;\n",
              "  }\n",
              "\n",
              "  .colab-df-quickchart {\n",
              "    background-color: var(--bg-color);\n",
              "    border: none;\n",
              "    border-radius: 50%;\n",
              "    cursor: pointer;\n",
              "    display: none;\n",
              "    fill: var(--fill-color);\n",
              "    height: 32px;\n",
              "    padding: 0;\n",
              "    width: 32px;\n",
              "  }\n",
              "\n",
              "  .colab-df-quickchart:hover {\n",
              "    background-color: var(--hover-bg-color);\n",
              "    box-shadow: 0 1px 2px rgba(60, 64, 67, 0.3), 0 1px 3px 1px rgba(60, 64, 67, 0.15);\n",
              "    fill: var(--button-hover-fill-color);\n",
              "  }\n",
              "\n",
              "  .colab-df-quickchart-complete:disabled,\n",
              "  .colab-df-quickchart-complete:disabled:hover {\n",
              "    background-color: var(--disabled-bg-color);\n",
              "    fill: var(--disabled-fill-color);\n",
              "    box-shadow: none;\n",
              "  }\n",
              "\n",
              "  .colab-df-spinner {\n",
              "    border: 2px solid var(--fill-color);\n",
              "    border-color: transparent;\n",
              "    border-bottom-color: var(--fill-color);\n",
              "    animation:\n",
              "      spin 1s steps(1) infinite;\n",
              "  }\n",
              "\n",
              "  @keyframes spin {\n",
              "    0% {\n",
              "      border-color: transparent;\n",
              "      border-bottom-color: var(--fill-color);\n",
              "      border-left-color: var(--fill-color);\n",
              "    }\n",
              "    20% {\n",
              "      border-color: transparent;\n",
              "      border-left-color: var(--fill-color);\n",
              "      border-top-color: var(--fill-color);\n",
              "    }\n",
              "    30% {\n",
              "      border-color: transparent;\n",
              "      border-left-color: var(--fill-color);\n",
              "      border-top-color: var(--fill-color);\n",
              "      border-right-color: var(--fill-color);\n",
              "    }\n",
              "    40% {\n",
              "      border-color: transparent;\n",
              "      border-right-color: var(--fill-color);\n",
              "      border-top-color: var(--fill-color);\n",
              "    }\n",
              "    60% {\n",
              "      border-color: transparent;\n",
              "      border-right-color: var(--fill-color);\n",
              "    }\n",
              "    80% {\n",
              "      border-color: transparent;\n",
              "      border-right-color: var(--fill-color);\n",
              "      border-bottom-color: var(--fill-color);\n",
              "    }\n",
              "    90% {\n",
              "      border-color: transparent;\n",
              "      border-bottom-color: var(--fill-color);\n",
              "    }\n",
              "  }\n",
              "</style>\n",
              "\n",
              "  <script>\n",
              "    async function quickchart(key) {\n",
              "      const quickchartButtonEl =\n",
              "        document.querySelector('#' + key + ' button');\n",
              "      quickchartButtonEl.disabled = true;  // To prevent multiple clicks.\n",
              "      quickchartButtonEl.classList.add('colab-df-spinner');\n",
              "      try {\n",
              "        const charts = await google.colab.kernel.invokeFunction(\n",
              "            'suggestCharts', [key], {});\n",
              "      } catch (error) {\n",
              "        console.error('Error during call to suggestCharts:', error);\n",
              "      }\n",
              "      quickchartButtonEl.classList.remove('colab-df-spinner');\n",
              "      quickchartButtonEl.classList.add('colab-df-quickchart-complete');\n",
              "    }\n",
              "    (() => {\n",
              "      let quickchartButtonEl =\n",
              "        document.querySelector('#df-ad337545-674e-4af2-b29e-47684a3b5ab3 button');\n",
              "      quickchartButtonEl.style.display =\n",
              "        google.colab.kernel.accessAllowed ? 'block' : 'none';\n",
              "    })();\n",
              "  </script>\n",
              "</div>\n",
              "\n",
              "  <div id=\"id_ed7b7695-01e4-4512-9c20-f12b134ad54a\">\n",
              "    <style>\n",
              "      .colab-df-generate {\n",
              "        background-color: #E8F0FE;\n",
              "        border: none;\n",
              "        border-radius: 50%;\n",
              "        cursor: pointer;\n",
              "        display: none;\n",
              "        fill: #1967D2;\n",
              "        height: 32px;\n",
              "        padding: 0 0 0 0;\n",
              "        width: 32px;\n",
              "      }\n",
              "\n",
              "      .colab-df-generate:hover {\n",
              "        background-color: #E2EBFA;\n",
              "        box-shadow: 0px 1px 2px rgba(60, 64, 67, 0.3), 0px 1px 3px 1px rgba(60, 64, 67, 0.15);\n",
              "        fill: #174EA6;\n",
              "      }\n",
              "\n",
              "      [theme=dark] .colab-df-generate {\n",
              "        background-color: #3B4455;\n",
              "        fill: #D2E3FC;\n",
              "      }\n",
              "\n",
              "      [theme=dark] .colab-df-generate:hover {\n",
              "        background-color: #434B5C;\n",
              "        box-shadow: 0px 1px 3px 1px rgba(0, 0, 0, 0.15);\n",
              "        filter: drop-shadow(0px 1px 2px rgba(0, 0, 0, 0.3));\n",
              "        fill: #FFFFFF;\n",
              "      }\n",
              "    </style>\n",
              "    <button class=\"colab-df-generate\" onclick=\"generateWithVariable('X')\"\n",
              "            title=\"Generate code using this dataframe.\"\n",
              "            style=\"display:none;\">\n",
              "\n",
              "  <svg xmlns=\"http://www.w3.org/2000/svg\" height=\"24px\"viewBox=\"0 0 24 24\"\n",
              "       width=\"24px\">\n",
              "    <path d=\"M7,19H8.4L18.45,9,17,7.55,7,17.6ZM5,21V16.75L18.45,3.32a2,2,0,0,1,2.83,0l1.4,1.43a1.91,1.91,0,0,1,.58,1.4,1.91,1.91,0,0,1-.58,1.4L9.25,21ZM18.45,9,17,7.55Zm-12,3A5.31,5.31,0,0,0,4.9,8.1,5.31,5.31,0,0,0,1,6.5,5.31,5.31,0,0,0,4.9,4.9,5.31,5.31,0,0,0,6.5,1,5.31,5.31,0,0,0,8.1,4.9,5.31,5.31,0,0,0,12,6.5,5.46,5.46,0,0,0,6.5,12Z\"/>\n",
              "  </svg>\n",
              "    </button>\n",
              "    <script>\n",
              "      (() => {\n",
              "      const buttonEl =\n",
              "        document.querySelector('#id_ed7b7695-01e4-4512-9c20-f12b134ad54a button.colab-df-generate');\n",
              "      buttonEl.style.display =\n",
              "        google.colab.kernel.accessAllowed ? 'block' : 'none';\n",
              "\n",
              "      buttonEl.onclick = () => {\n",
              "        google.colab.notebook.generateWithVariable('X');\n",
              "      }\n",
              "      })();\n",
              "    </script>\n",
              "  </div>\n",
              "\n",
              "    </div>\n",
              "  </div>\n"
            ],
            "application/vnd.google.colaboratory.intrinsic+json": {
              "type": "dataframe",
              "variable_name": "X"
            }
          },
          "metadata": {},
          "execution_count": 7
        }
      ]
    },
    {
      "cell_type": "code",
      "source": [
        "y['class'].nunique()"
      ],
      "metadata": {
        "colab": {
          "base_uri": "https://localhost:8080/"
        },
        "id": "36Y7wou-vH-m",
        "outputId": "9cc8bf1f-f069-4f67-de2d-84786a3d4765"
      },
      "execution_count": null,
      "outputs": [
        {
          "output_type": "execute_result",
          "data": {
            "text/plain": [
              "10"
            ]
          },
          "metadata": {},
          "execution_count": 8
        }
      ]
    },
    {
      "cell_type": "code",
      "source": [
        "X_train, X_test, y_train, y_test = train_test_split(X, y, test_size=0.2, random_state=42)"
      ],
      "metadata": {
        "id": "AQIB5WxFu5-6"
      },
      "execution_count": null,
      "outputs": []
    },
    {
      "cell_type": "code",
      "source": [
        "scaler = StandardScaler()"
      ],
      "metadata": {
        "id": "6AXlZN2mu7sm"
      },
      "execution_count": null,
      "outputs": []
    },
    {
      "cell_type": "code",
      "source": [
        "X_train = scaler.fit_transform(X_train)\n",
        "X_test = scaler.transform(X_test)"
      ],
      "metadata": {
        "id": "O2OpuDB2vCXP"
      },
      "execution_count": null,
      "outputs": []
    },
    {
      "cell_type": "code",
      "source": [
        "y_train = to_categorical(y_train, num_classes=10)\n",
        "y_test = to_categorical(y_test, num_classes=10)"
      ],
      "metadata": {
        "id": "sarO8ztLxBu5"
      },
      "execution_count": null,
      "outputs": []
    },
    {
      "cell_type": "code",
      "source": [
        "import numpy as np\n",
        "\n",
        "class NumpyModel:\n",
        "    def __init__(self, num_classes):\n",
        "        self.dense1_weights = np.random.randn(128, num_features) * np.sqrt(2 / num_features)\n",
        "        self.dense1_bias = np.zeros(128)\n",
        "        self.dense2_weights = np.random.randn(64, 128) * np.sqrt(2 / 128)\n",
        "        self.dense2_bias = np.zeros(64)\n",
        "        self.dense_output_weights = np.random.randn(num_classes, 64) * np.sqrt(2 / 64)\n",
        "        self.dense_output_bias = np.zeros(num_classes)\n",
        "        self.dropout_rate = 0.2\n",
        "\n",
        "    def relu(self, x):\n",
        "        return np.maximum(0, x)\n",
        "\n",
        "    def softmax(self, x):\n",
        "        exps = np.exp(x - np.max(x, axis=1, keepdims=True))\n",
        "        return exps / np.sum(exps, axis=1, keepdims=True)\n",
        "\n",
        "    def dropout(self, x, rate):\n",
        "        mask = np.random.rand(*x.shape) < rate\n",
        "        return x * mask / (1 - rate)\n",
        "\n",
        "    def dense_layer(self, x, weights, bias):\n",
        "        return np.dot(x, weights.T) + bias\n",
        "\n",
        "    def call(self, inputs):\n",
        "        x = self.dense_layer(inputs, self.dense1_weights, self.dense1_bias)\n",
        "        x = self.relu(x)\n",
        "        x = self.dropout(x, self.dropout_rate)\n",
        "        x = self.dense_layer(x, self.dense2_weights, self.dense2_bias)\n",
        "        x = self.relu(x)\n",
        "        x = self.dropout(x, self.dropout_rate)\n",
        "        output = self.dense_layer(x, self.dense_output_weights, self.dense_output_bias)\n",
        "        return self.softmax(output)\n"
      ],
      "metadata": {
        "id": "fVvt22XAvC9x"
      },
      "execution_count": null,
      "outputs": []
    },
    {
      "cell_type": "code",
      "source": [
        "model = NumpyModel(num_classes=y['class'].nunique())"
      ],
      "metadata": {
        "id": "uYrolcK-3Fv-"
      },
      "execution_count": null,
      "outputs": []
    },
    {
      "cell_type": "code",
      "source": [
        "metrics = [\n",
        "          'accuracy',\n",
        "           Precision(name = 'precision') ,\n",
        "           Recall(name = 'recall') ,\n",
        "           F1Score(name = 'f1'),\n",
        "           ]"
      ],
      "metadata": {
        "id": "0jiwZT8Iv88z"
      },
      "execution_count": null,
      "outputs": []
    },
    {
      "cell_type": "code",
      "source": [
        "model.compile(optimizer=Adam(learning_rate = 2e-10),\n",
        "              loss=CategoricalCrossentropy(),\n",
        "              metrics=metrics)"
      ],
      "metadata": {
        "id": "22sPQGuJvN36"
      },
      "execution_count": null,
      "outputs": []
    },
    {
      "cell_type": "code",
      "source": [
        "_ = model(X_train[:1])"
      ],
      "metadata": {
        "id": "m5a7rNTb3ei3"
      },
      "execution_count": null,
      "outputs": []
    },
    {
      "cell_type": "code",
      "source": [
        "model.summary()"
      ],
      "metadata": {
        "colab": {
          "base_uri": "https://localhost:8080/"
        },
        "id": "zGmLEy03wNaL",
        "outputId": "841dde94-4327-4a38-8cb0-76bfedbd16c2"
      },
      "execution_count": null,
      "outputs": [
        {
          "output_type": "stream",
          "name": "stdout",
          "text": [
            "Model: \"numpy_model\"\n",
            "_________________________________________________________________\n",
            " Layer (type)                Output Shape              Param #   \n",
            "=================================================================\n",
            " dense (Dense)               multiple                  8320      \n",
            "                                                                 \n",
            " dropout (Dropout)           multiple                  0         \n",
            "                                                                 \n",
            " dense_1 (Dense)             multiple                  8256      \n",
            "                                                                 \n",
            " dropout_1 (Dropout)         multiple                  0         \n",
            "                                                                 \n",
            " dense_2 (Dense)             multiple                  650       \n",
            "                                                                 \n",
            "=================================================================\n",
            "Total params: 17226 (67.29 KB)\n",
            "Trainable params: 17226 (67.29 KB)\n",
            "Non-trainable params: 0 (0.00 Byte)\n",
            "_________________________________________________________________\n"
          ]
        }
      ]
    },
    {
      "cell_type": "code",
      "source": [
        "print(\"X_train shape:\", X_train.shape)\n",
        "print(\"y_train shape:\", y_train.shape)"
      ],
      "metadata": {
        "colab": {
          "base_uri": "https://localhost:8080/"
        },
        "id": "LEgHyZV9wWhr",
        "outputId": "5dd10b70-5df7-4494-a0aa-b083e288b866"
      },
      "execution_count": null,
      "outputs": [
        {
          "output_type": "stream",
          "name": "stdout",
          "text": [
            "X_train shape: (4496, 64)\n",
            "y_train shape: (4496, 10)\n"
          ]
        }
      ]
    },
    {
      "cell_type": "code",
      "source": [
        "print(\"Number of unique classes:\", y['class'].nunique())"
      ],
      "metadata": {
        "colab": {
          "base_uri": "https://localhost:8080/"
        },
        "id": "MjnfMkNNxijM",
        "outputId": "aa922a14-980c-4e95-f78d-a51ccd7b1fd4"
      },
      "execution_count": null,
      "outputs": [
        {
          "output_type": "stream",
          "name": "stdout",
          "text": [
            "Number of unique classes: 10\n"
          ]
        }
      ]
    },
    {
      "cell_type": "code",
      "source": [
        "history = model.fit(X_train, y_train, epochs=30, validation_split=0.2)"
      ],
      "metadata": {
        "colab": {
          "base_uri": "https://localhost:8080/"
        },
        "id": "MzauwsUUwRal",
        "outputId": "e5e5c875-03c9-49c6-fe81-ac667a681824"
      },
      "execution_count": null,
      "outputs": [
        {
          "output_type": "stream",
          "name": "stdout",
          "text": [
            "Epoch 1/30\n",
            "113/113 [==============================] - 2s 8ms/step - loss: 0.0669 - accuracy: 0.9803 - precision: 0.9833 - recall: 0.9754 - f1: 0.9794 - val_loss: 0.0458 - val_accuracy: 0.9844 - val_precision: 0.9855 - val_recall: 0.9833 - val_f1: 0.9847\n",
            "Epoch 2/30\n",
            "113/113 [==============================] - 1s 6ms/step - loss: 0.0696 - accuracy: 0.9775 - precision: 0.9834 - recall: 0.9747 - f1: 0.9773 - val_loss: 0.0458 - val_accuracy: 0.9844 - val_precision: 0.9855 - val_recall: 0.9833 - val_f1: 0.9847\n",
            "Epoch 3/30\n",
            "113/113 [==============================] - 1s 5ms/step - loss: 0.0639 - accuracy: 0.9778 - precision: 0.9823 - recall: 0.9750 - f1: 0.9776 - val_loss: 0.0458 - val_accuracy: 0.9844 - val_precision: 0.9855 - val_recall: 0.9833 - val_f1: 0.9847\n",
            "Epoch 4/30\n",
            "113/113 [==============================] - 1s 5ms/step - loss: 0.0678 - accuracy: 0.9803 - precision: 0.9832 - recall: 0.9758 - f1: 0.9801 - val_loss: 0.0458 - val_accuracy: 0.9844 - val_precision: 0.9855 - val_recall: 0.9833 - val_f1: 0.9847\n",
            "Epoch 5/30\n",
            "113/113 [==============================] - 1s 6ms/step - loss: 0.0717 - accuracy: 0.9775 - precision: 0.9829 - recall: 0.9739 - f1: 0.9773 - val_loss: 0.0458 - val_accuracy: 0.9844 - val_precision: 0.9855 - val_recall: 0.9833 - val_f1: 0.9847\n",
            "Epoch 6/30\n",
            "113/113 [==============================] - 1s 7ms/step - loss: 0.0764 - accuracy: 0.9764 - precision: 0.9812 - recall: 0.9719 - f1: 0.9763 - val_loss: 0.0458 - val_accuracy: 0.9844 - val_precision: 0.9855 - val_recall: 0.9833 - val_f1: 0.9847\n",
            "Epoch 7/30\n",
            "113/113 [==============================] - 1s 8ms/step - loss: 0.0709 - accuracy: 0.9786 - precision: 0.9835 - recall: 0.9755 - f1: 0.9784 - val_loss: 0.0458 - val_accuracy: 0.9844 - val_precision: 0.9855 - val_recall: 0.9833 - val_f1: 0.9847\n",
            "Epoch 8/30\n",
            "113/113 [==============================] - 1s 6ms/step - loss: 0.0684 - accuracy: 0.9797 - precision: 0.9837 - recall: 0.9736 - f1: 0.9795 - val_loss: 0.0458 - val_accuracy: 0.9844 - val_precision: 0.9855 - val_recall: 0.9833 - val_f1: 0.9847\n",
            "Epoch 9/30\n",
            "113/113 [==============================] - 1s 6ms/step - loss: 0.0674 - accuracy: 0.9786 - precision: 0.9818 - recall: 0.9753 - f1: 0.9785 - val_loss: 0.0458 - val_accuracy: 0.9844 - val_precision: 0.9855 - val_recall: 0.9833 - val_f1: 0.9847\n",
            "Epoch 10/30\n",
            "113/113 [==============================] - 1s 6ms/step - loss: 0.0681 - accuracy: 0.9789 - precision: 0.9829 - recall: 0.9753 - f1: 0.9787 - val_loss: 0.0458 - val_accuracy: 0.9844 - val_precision: 0.9855 - val_recall: 0.9833 - val_f1: 0.9847\n",
            "Epoch 11/30\n",
            "113/113 [==============================] - 1s 6ms/step - loss: 0.0718 - accuracy: 0.9783 - precision: 0.9821 - recall: 0.9750 - f1: 0.9781 - val_loss: 0.0458 - val_accuracy: 0.9844 - val_precision: 0.9855 - val_recall: 0.9833 - val_f1: 0.9847\n",
            "Epoch 12/30\n",
            "113/113 [==============================] - 1s 5ms/step - loss: 0.0649 - accuracy: 0.9825 - precision: 0.9860 - recall: 0.9780 - f1: 0.9823 - val_loss: 0.0458 - val_accuracy: 0.9844 - val_precision: 0.9855 - val_recall: 0.9833 - val_f1: 0.9847\n",
            "Epoch 13/30\n",
            "113/113 [==============================] - 1s 5ms/step - loss: 0.0688 - accuracy: 0.9830 - precision: 0.9868 - recall: 0.9769 - f1: 0.9830 - val_loss: 0.0458 - val_accuracy: 0.9844 - val_precision: 0.9855 - val_recall: 0.9833 - val_f1: 0.9847\n",
            "Epoch 14/30\n",
            "113/113 [==============================] - 1s 5ms/step - loss: 0.0721 - accuracy: 0.9761 - precision: 0.9818 - recall: 0.9736 - f1: 0.9758 - val_loss: 0.0458 - val_accuracy: 0.9844 - val_precision: 0.9855 - val_recall: 0.9833 - val_f1: 0.9847\n",
            "Epoch 15/30\n",
            "113/113 [==============================] - 1s 6ms/step - loss: 0.0657 - accuracy: 0.9819 - precision: 0.9854 - recall: 0.9772 - f1: 0.9818 - val_loss: 0.0458 - val_accuracy: 0.9844 - val_precision: 0.9855 - val_recall: 0.9833 - val_f1: 0.9847\n",
            "Epoch 16/30\n",
            "113/113 [==============================] - 1s 5ms/step - loss: 0.0775 - accuracy: 0.9761 - precision: 0.9801 - recall: 0.9716 - f1: 0.9759 - val_loss: 0.0458 - val_accuracy: 0.9844 - val_precision: 0.9855 - val_recall: 0.9833 - val_f1: 0.9847\n",
            "Epoch 17/30\n",
            "113/113 [==============================] - 1s 6ms/step - loss: 0.0716 - accuracy: 0.9772 - precision: 0.9812 - recall: 0.9727 - f1: 0.9770 - val_loss: 0.0458 - val_accuracy: 0.9844 - val_precision: 0.9855 - val_recall: 0.9833 - val_f1: 0.9847\n",
            "Epoch 18/30\n",
            "113/113 [==============================] - 1s 5ms/step - loss: 0.0727 - accuracy: 0.9794 - precision: 0.9837 - recall: 0.9739 - f1: 0.9792 - val_loss: 0.0458 - val_accuracy: 0.9844 - val_precision: 0.9855 - val_recall: 0.9833 - val_f1: 0.9847\n",
            "Epoch 19/30\n",
            "113/113 [==============================] - 1s 5ms/step - loss: 0.0772 - accuracy: 0.9741 - precision: 0.9784 - recall: 0.9714 - f1: 0.9739 - val_loss: 0.0458 - val_accuracy: 0.9844 - val_precision: 0.9855 - val_recall: 0.9833 - val_f1: 0.9847\n",
            "Epoch 20/30\n",
            "113/113 [==============================] - 1s 5ms/step - loss: 0.0696 - accuracy: 0.9778 - precision: 0.9820 - recall: 0.9727 - f1: 0.9776 - val_loss: 0.0458 - val_accuracy: 0.9844 - val_precision: 0.9855 - val_recall: 0.9833 - val_f1: 0.9847\n",
            "Epoch 21/30\n",
            "113/113 [==============================] - 1s 5ms/step - loss: 0.0733 - accuracy: 0.9780 - precision: 0.9837 - recall: 0.9739 - f1: 0.9779 - val_loss: 0.0458 - val_accuracy: 0.9844 - val_precision: 0.9855 - val_recall: 0.9833 - val_f1: 0.9847\n",
            "Epoch 22/30\n",
            "113/113 [==============================] - 1s 5ms/step - loss: 0.0696 - accuracy: 0.9791 - precision: 0.9832 - recall: 0.9739 - f1: 0.9789 - val_loss: 0.0458 - val_accuracy: 0.9844 - val_precision: 0.9855 - val_recall: 0.9833 - val_f1: 0.9847\n",
            "Epoch 23/30\n",
            "113/113 [==============================] - 1s 5ms/step - loss: 0.0717 - accuracy: 0.9775 - precision: 0.9829 - recall: 0.9744 - f1: 0.9773 - val_loss: 0.0458 - val_accuracy: 0.9844 - val_precision: 0.9855 - val_recall: 0.9833 - val_f1: 0.9847\n",
            "Epoch 24/30\n",
            "113/113 [==============================] - 1s 7ms/step - loss: 0.0654 - accuracy: 0.9819 - precision: 0.9854 - recall: 0.9769 - f1: 0.9818 - val_loss: 0.0458 - val_accuracy: 0.9844 - val_precision: 0.9855 - val_recall: 0.9833 - val_f1: 0.9847\n",
            "Epoch 25/30\n",
            "113/113 [==============================] - 1s 7ms/step - loss: 0.0733 - accuracy: 0.9769 - precision: 0.9829 - recall: 0.9730 - f1: 0.9768 - val_loss: 0.0458 - val_accuracy: 0.9844 - val_precision: 0.9855 - val_recall: 0.9833 - val_f1: 0.9847\n",
            "Epoch 26/30\n",
            "113/113 [==============================] - 1s 8ms/step - loss: 0.0651 - accuracy: 0.9830 - precision: 0.9868 - recall: 0.9772 - f1: 0.9830 - val_loss: 0.0458 - val_accuracy: 0.9844 - val_precision: 0.9855 - val_recall: 0.9833 - val_f1: 0.9847\n",
            "Epoch 27/30\n",
            "113/113 [==============================] - 1s 5ms/step - loss: 0.0691 - accuracy: 0.9811 - precision: 0.9868 - recall: 0.9758 - f1: 0.9809 - val_loss: 0.0458 - val_accuracy: 0.9844 - val_precision: 0.9855 - val_recall: 0.9833 - val_f1: 0.9847\n",
            "Epoch 28/30\n",
            "113/113 [==============================] - 1s 6ms/step - loss: 0.0712 - accuracy: 0.9791 - precision: 0.9829 - recall: 0.9755 - f1: 0.9790 - val_loss: 0.0458 - val_accuracy: 0.9844 - val_precision: 0.9855 - val_recall: 0.9833 - val_f1: 0.9847\n",
            "Epoch 29/30\n",
            "113/113 [==============================] - 1s 5ms/step - loss: 0.0706 - accuracy: 0.9766 - precision: 0.9829 - recall: 0.9733 - f1: 0.9764 - val_loss: 0.0458 - val_accuracy: 0.9844 - val_precision: 0.9855 - val_recall: 0.9833 - val_f1: 0.9847\n",
            "Epoch 30/30\n",
            "113/113 [==============================] - 1s 6ms/step - loss: 0.0682 - accuracy: 0.9786 - precision: 0.9840 - recall: 0.9753 - f1: 0.9784 - val_loss: 0.0458 - val_accuracy: 0.9844 - val_precision: 0.9855 - val_recall: 0.9833 - val_f1: 0.9847\n"
          ]
        }
      ]
    },
    {
      "cell_type": "code",
      "source": [
        "test_loss, test_accuracy, test_precision, test_recall, test_f1_score = model.evaluate(X_test, y_test)\n",
        "final_f1_score = np.mean(test_loss)\n",
        "print(f\"Test Loss: {test_loss}\")\n",
        "print(f\"Test Accuracy: {test_accuracy}\")\n",
        "print(f\"Test Precision: {test_precision}\")\n",
        "print(f\"Test Recall: {test_recall}\")\n",
        "print(f\"Test F1 Score: {final_f1_score}\")"
      ],
      "metadata": {
        "colab": {
          "base_uri": "https://localhost:8080/"
        },
        "id": "xYNjI214yKwL",
        "outputId": "19b9ff1d-931d-4391-bf27-93787cb33e92"
      },
      "execution_count": null,
      "outputs": [
        {
          "output_type": "stream",
          "name": "stdout",
          "text": [
            "36/36 [==============================] - 0s 5ms/step - loss: 0.0828 - accuracy: 0.9769 - precision: 0.9794 - recall: 0.9706 - f1: 0.9769\n",
            "Test Loss: 0.08276382833719254\n",
            "Test Accuracy: 0.9768683314323425\n",
            "Test Precision: 0.979353666305542\n",
            "Test Recall: 0.9706405401229858\n",
            "Test F1 Score: 0.08276382833719254\n"
          ]
        }
      ]
    },
    {
      "cell_type": "code",
      "source": [
        "plt.plot(history.history['accuracy'])\n",
        "plt.plot(history.history['val_accuracy'])\n",
        "plt.title('Model accuracy')\n",
        "plt.ylabel('Accuracy')\n",
        "plt.xlabel('Epoch')\n",
        "plt.legend(['Train', 'Validation'], loc='upper left')\n",
        "plt.show()"
      ],
      "metadata": {
        "colab": {
          "base_uri": "https://localhost:8080/",
          "height": 472
        },
        "id": "Uk6M8Xqs0o72",
        "outputId": "d4585344-68ee-4c61-a728-689c79a5a0b2"
      },
      "execution_count": null,
      "outputs": [
        {
          "output_type": "display_data",
          "data": {
            "text/plain": [
              "<Figure size 640x480 with 1 Axes>"
            ],
            "image/png": "[encoded data removed]"
          },
          "metadata": {}
        }
      ]
    },
    {
      "cell_type": "code",
      "source": [
        "plt.plot(history.history['loss'])\n",
        "plt.plot(history.history['val_loss'])\n",
        "plt.title('Model loss')\n",
        "plt.ylabel('Loss')\n",
        "plt.xlabel('Epoch')\n",
        "plt.legend(['Train', 'Validation'], loc='upper left')\n",
        "plt.show()"
      ],
      "metadata": {
        "colab": {
          "base_uri": "https://localhost:8080/",
          "height": 472
        },
        "id": "D6i5jXp20pSp",
        "outputId": "622fdff5-50c1-4453-871f-bc2b113ff6f8"
      },
      "execution_count": null,
      "outputs": [
        {
          "output_type": "display_data",
          "data": {
            "text/plain": [
              "<Figure size 640x480 with 1 Axes>"
            ],
            "image/png": "[encoded data removed]"
          },
          "metadata": {}
        }
      ]
    },
    {
      "cell_type": "code",
      "source": [
        "y_pred_prob = model.predict(X_test)\n",
        "y_pred = np.argmax(y_pred_prob, axis=1)"
      ],
      "metadata": {
        "colab": {
          "base_uri": "https://localhost:8080/"
        },
        "id": "a1yVoeuI0ukx",
        "outputId": "a05c93e5-f8b2-458a-a4b9-84d7a1d1f78f"
      },
      "execution_count": null,
      "outputs": [
        {
          "output_type": "stream",
          "name": "stdout",
          "text": [
            "36/36 [==============================] - 0s 2ms/step\n"
          ]
        }
      ]
    },
    {
      "cell_type": "code",
      "source": [
        "y_pred"
      ],
      "metadata": {
        "colab": {
          "base_uri": "https://localhost:8080/"
        },
        "id": "cjPUc2Ej08fR",
        "outputId": "ab6129db-5f79-4002-837a-866464d7941f"
      },
      "execution_count": null,
      "outputs": [
        {
          "output_type": "execute_result",
          "data": {
            "text/plain": [
              "array([7, 0, 3, ..., 2, 8, 4])"
            ]
          },
          "metadata": {},
          "execution_count": 62
        }
      ]
    },
    {
      "cell_type": "code",
      "source": [
        "cm = confusion_matrix(np.argmax(y_test, axis=1), y_pred)"
      ],
      "metadata": {
        "id": "LYGR64tD04pl"
      },
      "execution_count": null,
      "outputs": []
    },
    {
      "cell_type": "code",
      "source": [
        "plt.figure(figsize=(10, 8))\n",
        "sns.heatmap(cm, annot=True, fmt='d', cmap='Blues', xticklabels=range(10), yticklabels=range(10))\n",
        "plt.title('Confusion Matrix')\n",
        "plt.xlabel('Predicted Label')\n",
        "plt.ylabel('True Label')\n",
        "plt.show()"
      ],
      "metadata": {
        "colab": {
          "base_uri": "https://localhost:8080/",
          "height": 718
        },
        "id": "Bf0lWyy81MQ1",
        "outputId": "dd90557c-c253-4a62-ef8f-e4e6286a2fde"
      },
      "execution_count": null,
      "outputs": [
        {
          "output_type": "display_data",
          "data": {
            "text/plain": [
              "<Figure size 1000x800 with 2 Axes>"
            ],
            "image/png": "[encoded data removed]"
          },
          "metadata": {}
        }
      ]
    },
    {
      "cell_type": "code",
      "source": [
        "report = classification_report(np.argmax(y_test, axis=1), y_pred)\n",
        "print(\"Classification Report:\")\n",
        "print(report)"
      ],
      "metadata": {
        "colab": {
          "base_uri": "https://localhost:8080/"
        },
        "id": "Hh5TiOk41fh_",
        "outputId": "4aaf083d-f46d-4882-f534-86a246775cad"
      },
      "execution_count": null,
      "outputs": [
        {
          "output_type": "stream",
          "name": "stdout",
          "text": [
            "Classification Report:\n",
            "              precision    recall  f1-score   support\n",
            "\n",
            "           0       1.00      0.99      1.00       108\n",
            "           1       0.97      1.00      0.99       102\n",
            "           2       0.99      0.99      0.99       107\n",
            "           3       0.98      0.97      0.98       118\n",
            "           4       0.95      0.97      0.96       117\n",
            "           5       0.95      0.97      0.96        97\n",
            "           6       0.99      0.98      0.98       123\n",
            "           7       1.00      1.00      1.00       124\n",
            "           8       0.97      0.97      0.97       105\n",
            "           9       0.96      0.93      0.95       123\n",
            "\n",
            "    accuracy                           0.98      1124\n",
            "   macro avg       0.98      0.98      0.98      1124\n",
            "weighted avg       0.98      0.98      0.98      1124\n",
            "\n"
          ]
        }
      ]
    },
    {
      "cell_type": "code",
      "source": [],
      "metadata": {
        "id": "-hCIG8761NHb"
      },
      "execution_count": null,
      "outputs": []
    }
  ]
}