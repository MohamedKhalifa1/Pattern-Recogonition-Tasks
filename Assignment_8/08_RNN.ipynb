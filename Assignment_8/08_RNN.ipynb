{
  "nbformat": 4,
  "nbformat_minor": 0,
  "metadata": {
    "colab": {
      "provenance": [],
      "gpuType": "T4"
    },
    "kernelspec": {
      "name": "python3",
      "display_name": "Python 3"
    },
    "language_info": {
      "name": "python"
    },
    "accelerator": "GPU"
  },
  "cells": [
    {
      "cell_type": "code",
      "execution_count": null,
      "metadata": {
        "id": "c1QoY9wCCJbQ"
      },
      "outputs": [],
      "source": [
        "import tensorflow as tf\n",
        "import matplotlib.pyplot as plt\n",
        "from tensorflow.keras.datasets import imdb\n",
        "from tensorflow.keras.preprocessing.sequence import pad_sequences\n",
        "from tensorflow.keras.models import Sequential\n",
        "from tensorflow.keras.layers import Embedding, LSTM, Dense"
      ]
    },
    {
      "cell_type": "code",
      "source": [
        "vocab_size = 10000\n",
        "max_length = 200\n",
        "(x_train, y_train), (x_test, y_test) = imdb.load_data(num_words=vocab_size)"
      ],
      "metadata": {
        "id": "_tWyqkKUCs2m"
      },
      "execution_count": null,
      "outputs": []
    },
    {
      "cell_type": "code",
      "source": [
        "x_train = pad_sequences(x_train, maxlen=max_length)\n",
        "x_test = pad_sequences(x_test, maxlen=max_length)"
      ],
      "metadata": {
        "id": "HdHxZk0EC8Cs"
      },
      "execution_count": null,
      "outputs": []
    },
    {
      "cell_type": "code",
      "source": [
        "model = Sequential([\n",
        "    Embedding(input_dim=vocab_size, output_dim=64, input_length=max_length),\n",
        "    LSTM(units=64),\n",
        "    Dense(units=1, activation='sigmoid')\n",
        "])"
      ],
      "metadata": {
        "id": "OGGpo84VC_1k"
      },
      "execution_count": null,
      "outputs": []
    },
    {
      "cell_type": "code",
      "source": [
        "model.compile(optimizer='adam', loss='binary_crossentropy', metrics=['accuracy'])"
      ],
      "metadata": {
        "id": "Xmcu3da4DDfE"
      },
      "execution_count": null,
      "outputs": []
    },
    {
      "cell_type": "code",
      "source": [
        "hsitory = model.fit(x_train, y_train, epochs=20, batch_size=128, validation_data=(x_test, y_test))"
      ],
      "metadata": {
        "colab": {
          "base_uri": "https://localhost:8080/"
        },
        "id": "lPf10JvCDGZE",
        "outputId": "083e62e9-802b-4d15-8f98-e4a4b587c420"
      },
      "execution_count": null,
      "outputs": [
        {
          "output_type": "stream",
          "name": "stdout",
          "text": [
            "Epoch 1/20\n",
            "196/196 [==============================] - 21s 98ms/step - loss: 0.4171 - accuracy: 0.8006 - val_loss: 0.3896 - val_accuracy: 0.8531\n",
            "Epoch 2/20\n",
            "196/196 [==============================] - 12s 62ms/step - loss: 0.2384 - accuracy: 0.9112 - val_loss: 0.3120 - val_accuracy: 0.8701\n",
            "Epoch 3/20\n",
            "196/196 [==============================] - 8s 39ms/step - loss: 0.1780 - accuracy: 0.9347 - val_loss: 0.3225 - val_accuracy: 0.8669\n",
            "Epoch 4/20\n",
            "196/196 [==============================] - 6s 31ms/step - loss: 0.1398 - accuracy: 0.9512 - val_loss: 0.4229 - val_accuracy: 0.8586\n",
            "Epoch 5/20\n",
            "196/196 [==============================] - 5s 25ms/step - loss: 0.1114 - accuracy: 0.9610 - val_loss: 0.4069 - val_accuracy: 0.8583\n",
            "Epoch 6/20\n",
            "196/196 [==============================] - 5s 27ms/step - loss: 0.0938 - accuracy: 0.9675 - val_loss: 0.4177 - val_accuracy: 0.8250\n",
            "Epoch 7/20\n",
            "196/196 [==============================] - 5s 27ms/step - loss: 0.0851 - accuracy: 0.9714 - val_loss: 0.4823 - val_accuracy: 0.8580\n",
            "Epoch 8/20\n",
            "196/196 [==============================] - 4s 20ms/step - loss: 0.0657 - accuracy: 0.9786 - val_loss: 0.5355 - val_accuracy: 0.8558\n",
            "Epoch 9/20\n",
            "196/196 [==============================] - 5s 24ms/step - loss: 0.0604 - accuracy: 0.9800 - val_loss: 0.5627 - val_accuracy: 0.8468\n",
            "Epoch 10/20\n",
            "196/196 [==============================] - 5s 23ms/step - loss: 0.0470 - accuracy: 0.9848 - val_loss: 0.5750 - val_accuracy: 0.8517\n",
            "Epoch 11/20\n",
            "196/196 [==============================] - 4s 19ms/step - loss: 0.0440 - accuracy: 0.9871 - val_loss: 0.5754 - val_accuracy: 0.8496\n",
            "Epoch 12/20\n",
            "196/196 [==============================] - 4s 19ms/step - loss: 0.0460 - accuracy: 0.9854 - val_loss: 0.5876 - val_accuracy: 0.8473\n",
            "Epoch 13/20\n",
            "196/196 [==============================] - 4s 20ms/step - loss: 0.0515 - accuracy: 0.9839 - val_loss: 0.6667 - val_accuracy: 0.8495\n",
            "Epoch 14/20\n",
            "196/196 [==============================] - 4s 18ms/step - loss: 0.0307 - accuracy: 0.9911 - val_loss: 0.6649 - val_accuracy: 0.8513\n",
            "Epoch 15/20\n",
            "196/196 [==============================] - 4s 21ms/step - loss: 0.0697 - accuracy: 0.9765 - val_loss: 0.6313 - val_accuracy: 0.8506\n",
            "Epoch 16/20\n",
            "196/196 [==============================] - 3s 17ms/step - loss: 0.0305 - accuracy: 0.9914 - val_loss: 0.6789 - val_accuracy: 0.8516\n",
            "Epoch 17/20\n",
            "196/196 [==============================] - 4s 18ms/step - loss: 0.0311 - accuracy: 0.9916 - val_loss: 0.7485 - val_accuracy: 0.8506\n",
            "Epoch 18/20\n",
            "196/196 [==============================] - 4s 20ms/step - loss: 0.0220 - accuracy: 0.9938 - val_loss: 0.7140 - val_accuracy: 0.8484\n",
            "Epoch 19/20\n",
            "196/196 [==============================] - 4s 19ms/step - loss: 0.0175 - accuracy: 0.9952 - val_loss: 0.8663 - val_accuracy: 0.8227\n",
            "Epoch 20/20\n",
            "196/196 [==============================] - 3s 17ms/step - loss: 0.0229 - accuracy: 0.9934 - val_loss: 0.7152 - val_accuracy: 0.8377\n"
          ]
        }
      ]
    },
    {
      "cell_type": "code",
      "source": [
        "loss, accuracy = model.evaluate(x_test, y_test)\n",
        "print(\"Test Accuracy:\", accuracy)\n",
        "print(\"Test loss:\", loss)"
      ],
      "metadata": {
        "colab": {
          "base_uri": "https://localhost:8080/"
        },
        "id": "TZ9gzjY1DIyc",
        "outputId": "72e30383-4965-4c12-8555-0ce41bf8a684"
      },
      "execution_count": null,
      "outputs": [
        {
          "output_type": "stream",
          "name": "stdout",
          "text": [
            "782/782 [==============================] - 4s 5ms/step - loss: 0.7152 - accuracy: 0.8377\n",
            "Test Accuracy: 0.8376799821853638\n",
            "Test loss: 0.7152372002601624\n"
          ]
        }
      ]
    }
  ]
}