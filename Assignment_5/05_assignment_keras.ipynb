{
  "nbformat": 4,
  "nbformat_minor": 0,
  "metadata": {
    "colab": {
      "provenance": [],
      "gpuType": "T4"
    },
    "kernelspec": {
      "name": "python3",
      "display_name": "Python 3"
    },
    "language_info": {
      "name": "python"
    },
    "accelerator": "GPU"
  },
  "cells": [
    {
      "cell_type": "code",
      "execution_count": null,
      "metadata": {
        "id": "2jL0icXRNyb1"
      },
      "outputs": [],
      "source": [
        "!mkdir -p ~/.kaggle\n",
        "!mv kaggle.json ~/.kaggle/\n",
        "!chmod 600 ~/.kaggle/kaggle.json"
      ]
    },
    {
      "cell_type": "code",
      "source": [
        "!kaggle datasets download -d shivanandmn/multilabel-classification-dataset"
      ],
      "metadata": {
        "colab": {
          "base_uri": "https://localhost:8080/"
        },
        "id": "P3T7U6TROhEY",
        "outputId": "f409ca2e-51a9-49a5-ed29-1cc83ef2dc19"
      },
      "execution_count": null,
      "outputs": [
        {
          "output_type": "stream",
          "name": "stdout",
          "text": [
            "Downloading multilabel-classification-dataset.zip to /content\n",
            " 87% 10.0M/11.4M [00:01<00:00, 12.0MB/s]\n",
            "100% 11.4M/11.4M [00:01<00:00, 7.52MB/s]\n"
          ]
        }
      ]
    },
    {
      "cell_type": "code",
      "source": [
        "!unzip /content/multilabel-classification-dataset.zip"
      ],
      "metadata": {
        "colab": {
          "base_uri": "https://localhost:8080/"
        },
        "id": "NEtFyQXpOjVI",
        "outputId": "f80faa40-78b2-4782-f922-55912ec003fb"
      },
      "execution_count": null,
      "outputs": [
        {
          "output_type": "stream",
          "name": "stdout",
          "text": [
            "Archive:  /content/multilabel-classification-dataset.zip\n",
            "  inflating: sample_submission.csv   \n",
            "  inflating: test.csv                \n",
            "  inflating: train.csv               \n"
          ]
        }
      ]
    },
    {
      "cell_type": "code",
      "source": [
        "train_path = '/content/train.csv'\n",
        "test_path = '/content/test.csv'"
      ],
      "metadata": {
        "id": "zAxKySGNPGhh"
      },
      "execution_count": null,
      "outputs": []
    },
    {
      "cell_type": "code",
      "source": [
        "import numpy as np\n",
        "import pandas as pd\n",
        "from matplotlib import pyplot as plt\n",
        "%matplotlib inline\n",
        "import seaborn as sns\n",
        "import re"
      ],
      "metadata": {
        "id": "nGhn-2Hbzq7H"
      },
      "execution_count": null,
      "outputs": []
    },
    {
      "cell_type": "code",
      "source": [
        "train_df = pd.read_csv(train_path)\n",
        "test_df = pd.read_csv(test_path)"
      ],
      "metadata": {
        "id": "Acq1bB3_RHAY"
      },
      "execution_count": null,
      "outputs": []
    },
    {
      "cell_type": "code",
      "source": [
        "def clean_text(text):\n",
        "    text = text.lower()\n",
        "    text = re.sub(r\"what's\", \"what is \", text)\n",
        "    text = re.sub(r\"\\'s\", \" \", text)\n",
        "    text = re.sub(r\"\\'ve\", \" have \", text)\n",
        "    text = re.sub(r\"can't\", \"cannot \", text)\n",
        "    text = re.sub(r\"n't\", \" not \", text)\n",
        "    text = re.sub(r\"i'm\", \"i am \", text)\n",
        "    text = re.sub(r\"\\'re\", \" are \", text)\n",
        "    text = re.sub(r\"\\'d\", \" would \", text)\n",
        "    text = re.sub(r\"\\'ll\", \" will \", text)\n",
        "    text = re.sub(r\"\\'scuse\", \" excuse \", text)\n",
        "    text = re.sub('\\W', ' ', text)\n",
        "    text = re.sub('\\s+', ' ', text)\n",
        "    text = text.strip(' ')\n",
        "    return text"
      ],
      "metadata": {
        "id": "YehnKNHCzr7G"
      },
      "execution_count": null,
      "outputs": []
    },
    {
      "cell_type": "code",
      "source": [
        "train_df['ABSTRACT'] = train_df['ABSTRACT'].map(lambda com : clean_text(com))"
      ],
      "metadata": {
        "id": "ia9ZdmVyzvNs"
      },
      "execution_count": null,
      "outputs": []
    },
    {
      "cell_type": "code",
      "source": [
        "X = train_df.ABSTRACT\n",
        "test_X = test_df.ABSTRACT"
      ],
      "metadata": {
        "id": "ncFKbQ8czw0r"
      },
      "execution_count": null,
      "outputs": []
    },
    {
      "cell_type": "code",
      "source": [
        "# import and instantiate TfidfVectorizer\n",
        "from sklearn.feature_extraction.text import CountVectorizer\n",
        "from sklearn.feature_extraction.text import TfidfVectorizer\n",
        "vect = TfidfVectorizer(max_features=5000,stop_words='english')\n",
        "vect"
      ],
      "metadata": {
        "colab": {
          "base_uri": "https://localhost:8080/",
          "height": 75
        },
        "id": "dUJGVLZ-z04U",
        "outputId": "ac743c00-1f1f-45b7-97cd-f974f5bda7e7"
      },
      "execution_count": null,
      "outputs": [
        {
          "output_type": "execute_result",
          "data": {
            "text/plain": [
              "TfidfVectorizer(max_features=5000, stop_words='english')"
            ],
            "text/html": [
              "<style>#sk-container-id-1 {color: black;background-color: white;}#sk-container-id-1 pre{padding: 0;}#sk-container-id-1 div.sk-toggleable {background-color: white;}#sk-container-id-1 label.sk-toggleable__label {cursor: pointer;display: block;width: 100%;margin-bottom: 0;padding: 0.3em;box-sizing: border-box;text-align: center;}#sk-container-id-1 label.sk-toggleable__label-arrow:before {content: \"▸\";float: left;margin-right: 0.25em;color: #696969;}#sk-container-id-1 label.sk-toggleable__label-arrow:hover:before {color: black;}#sk-container-id-1 div.sk-estimator:hover label.sk-toggleable__label-arrow:before {color: black;}#sk-container-id-1 div.sk-toggleable__content {max-height: 0;max-width: 0;overflow: hidden;text-align: left;background-color: #f0f8ff;}#sk-container-id-1 div.sk-toggleable__content pre {margin: 0.2em;color: black;border-radius: 0.25em;background-color: #f0f8ff;}#sk-container-id-1 input.sk-toggleable__control:checked~div.sk-toggleable__content {max-height: 200px;max-width: 100%;overflow: auto;}#sk-container-id-1 input.sk-toggleable__control:checked~label.sk-toggleable__label-arrow:before {content: \"▾\";}#sk-container-id-1 div.sk-estimator input.sk-toggleable__control:checked~label.sk-toggleable__label {background-color: #d4ebff;}#sk-container-id-1 div.sk-label input.sk-toggleable__control:checked~label.sk-toggleable__label {background-color: #d4ebff;}#sk-container-id-1 input.sk-hidden--visually {border: 0;clip: rect(1px 1px 1px 1px);clip: rect(1px, 1px, 1px, 1px);height: 1px;margin: -1px;overflow: hidden;padding: 0;position: absolute;width: 1px;}#sk-container-id-1 div.sk-estimator {font-family: monospace;background-color: #f0f8ff;border: 1px dotted black;border-radius: 0.25em;box-sizing: border-box;margin-bottom: 0.5em;}#sk-container-id-1 div.sk-estimator:hover {background-color: #d4ebff;}#sk-container-id-1 div.sk-parallel-item::after {content: \"\";width: 100%;border-bottom: 1px solid gray;flex-grow: 1;}#sk-container-id-1 div.sk-label:hover label.sk-toggleable__label {background-color: #d4ebff;}#sk-container-id-1 div.sk-serial::before {content: \"\";position: absolute;border-left: 1px solid gray;box-sizing: border-box;top: 0;bottom: 0;left: 50%;z-index: 0;}#sk-container-id-1 div.sk-serial {display: flex;flex-direction: column;align-items: center;background-color: white;padding-right: 0.2em;padding-left: 0.2em;position: relative;}#sk-container-id-1 div.sk-item {position: relative;z-index: 1;}#sk-container-id-1 div.sk-parallel {display: flex;align-items: stretch;justify-content: center;background-color: white;position: relative;}#sk-container-id-1 div.sk-item::before, #sk-container-id-1 div.sk-parallel-item::before {content: \"\";position: absolute;border-left: 1px solid gray;box-sizing: border-box;top: 0;bottom: 0;left: 50%;z-index: -1;}#sk-container-id-1 div.sk-parallel-item {display: flex;flex-direction: column;z-index: 1;position: relative;background-color: white;}#sk-container-id-1 div.sk-parallel-item:first-child::after {align-self: flex-end;width: 50%;}#sk-container-id-1 div.sk-parallel-item:last-child::after {align-self: flex-start;width: 50%;}#sk-container-id-1 div.sk-parallel-item:only-child::after {width: 0;}#sk-container-id-1 div.sk-dashed-wrapped {border: 1px dashed gray;margin: 0 0.4em 0.5em 0.4em;box-sizing: border-box;padding-bottom: 0.4em;background-color: white;}#sk-container-id-1 div.sk-label label {font-family: monospace;font-weight: bold;display: inline-block;line-height: 1.2em;}#sk-container-id-1 div.sk-label-container {text-align: center;}#sk-container-id-1 div.sk-container {/* jupyter's `normalize.less` sets `[hidden] { display: none; }` but bootstrap.min.css set `[hidden] { display: none !important; }` so we also need the `!important` here to be able to override the default hidden behavior on the sphinx rendered scikit-learn.org. See: https://github.com/scikit-learn/scikit-learn/issues/21755 */display: inline-block !important;position: relative;}#sk-container-id-1 div.sk-text-repr-fallback {display: none;}</style><div id=\"sk-container-id-1\" class=\"sk-top-container\"><div class=\"sk-text-repr-fallback\"><pre>TfidfVectorizer(max_features=5000, stop_words=&#x27;english&#x27;)</pre><b>In a Jupyter environment, please rerun this cell to show the HTML representation or trust the notebook. <br />On GitHub, the HTML representation is unable to render, please try loading this page with nbviewer.org.</b></div><div class=\"sk-container\" hidden><div class=\"sk-item\"><div class=\"sk-estimator sk-toggleable\"><input class=\"sk-toggleable__control sk-hidden--visually\" id=\"sk-estimator-id-1\" type=\"checkbox\" checked><label for=\"sk-estimator-id-1\" class=\"sk-toggleable__label sk-toggleable__label-arrow\">TfidfVectorizer</label><div class=\"sk-toggleable__content\"><pre>TfidfVectorizer(max_features=5000, stop_words=&#x27;english&#x27;)</pre></div></div></div></div></div>"
            ]
          },
          "metadata": {},
          "execution_count": 81
        }
      ]
    },
    {
      "cell_type": "code",
      "source": [
        "X_vec = vect.fit_transform(X)\n",
        "X_vec"
      ],
      "metadata": {
        "colab": {
          "base_uri": "https://localhost:8080/"
        },
        "id": "-PyZ972kz9I9",
        "outputId": "67554429-8fff-4ee1-b42c-4f2665774d59"
      },
      "execution_count": null,
      "outputs": [
        {
          "output_type": "execute_result",
          "data": {
            "text/plain": [
              "<20972x5000 sparse matrix of type '<class 'numpy.float64'>'\n",
              "\twith 1182453 stored elements in Compressed Sparse Row format>"
            ]
          },
          "metadata": {},
          "execution_count": 102
        }
      ]
    },
    {
      "cell_type": "code",
      "source": [
        "test_X_vec = vect.transform(test_X)"
      ],
      "metadata": {
        "id": "fAUaiP1S0Aus"
      },
      "execution_count": null,
      "outputs": []
    },
    {
      "cell_type": "code",
      "source": [
        "X_vec"
      ],
      "metadata": {
        "colab": {
          "base_uri": "https://localhost:8080/"
        },
        "id": "4JrMIbPB0DzW",
        "outputId": "cc3b1370-26f0-472c-e48b-9a2f62b5750a"
      },
      "execution_count": null,
      "outputs": [
        {
          "output_type": "execute_result",
          "data": {
            "text/plain": [
              "<20972x5000 sparse matrix of type '<class 'numpy.float64'>'\n",
              "\twith 1182453 stored elements in Compressed Sparse Row format>"
            ]
          },
          "metadata": {},
          "execution_count": 84
        }
      ]
    },
    {
      "cell_type": "code",
      "source": [
        "from sklearn.linear_model import LogisticRegression\n",
        "from sklearn.metrics import accuracy_score\n",
        "\n",
        "submission_chains = pd.read_csv('/content/sample_submission.csv')\n",
        "\n",
        "# create a function to add features\n",
        "def add_feature(X, feature_to_add):\n",
        "    '''\n",
        "    Returns sparse feature matrix with added feature.\n",
        "    feature_to_add can also be a list of features.\n",
        "    '''\n",
        "    from scipy.sparse import csr_matrix, hstack\n",
        "    return hstack([X, csr_matrix(feature_to_add).T], 'csr')"
      ],
      "metadata": {
        "id": "UCw-l5Yc0J8G"
      },
      "execution_count": null,
      "outputs": []
    },
    {
      "cell_type": "code",
      "source": [
        "cols_target = ['Computer Science','Physics','Mathematics','Statistics','Quantitative Biology','Quantitative Finance']\n"
      ],
      "metadata": {
        "id": "0HbGQnYW0w1l"
      },
      "execution_count": null,
      "outputs": []
    },
    {
      "cell_type": "code",
      "source": [
        "import tensorflow as tf\n",
        "from sklearn.metrics import accuracy_score\n",
        "\n",
        "\n",
        "\n",
        "for label in cols_target:\n",
        "    print('... Processing {}'.format(label))\n",
        "    y = train_df[label].values.astype(float)\n",
        "\n",
        "\n",
        "    X_vec_dense = X_vec.toarray()\n",
        "    test_X_vec_dense = test_X_vec.toarray()\n",
        "\n",
        "\n",
        "    model = tf.keras.Sequential([\n",
        "        tf.keras.layers.Input(shape=(X_vec_dense.shape[1],)),\n",
        "        tf.keras.layers.Dense(1, activation='sigmoid')\n",
        "    ])\n",
        "\n",
        "\n",
        "    model.compile(optimizer='adam', loss='binary_crossentropy', metrics=['accuracy'])\n",
        "\n",
        "\n",
        "    model.fit(X_vec_dense, y, epochs=20, batch_size=32)\n",
        "\n",
        "\n",
        "    y_pred_X = (model.predict(X_vec_dense) > 0.5).astype(float)\n",
        "    print('Training Accuracy is {}'.format(accuracy_score(y, y_pred_X)))\n",
        "\n",
        "\n",
        "    test_y_prob = model.predict(test_X_vec_dense)\n",
        "    submission_chains[label] = test_y_prob\n",
        "\n",
        "\n",
        "    X_dtm = add_feature(X_vec_dense, y)\n",
        "    print('Shape of X_dtm is now {}'.format(X_dtm.shape))\n"
      ],
      "metadata": {
        "colab": {
          "base_uri": "https://localhost:8080/"
        },
        "id": "vTWuEDYA0mAR",
        "outputId": "cb28f787-be00-47a7-a236-cd7af21004f1"
      },
      "execution_count": null,
      "outputs": [
        {
          "output_type": "stream",
          "name": "stdout",
          "text": [
            "... Processing Computer Science\n",
            "Epoch 1/20\n",
            "656/656 [==============================] - 3s 4ms/step - loss: 0.6052 - accuracy: 0.7321\n",
            "Epoch 2/20\n",
            "656/656 [==============================] - 2s 3ms/step - loss: 0.4956 - accuracy: 0.8276\n",
            "Epoch 3/20\n",
            "656/656 [==============================] - 2s 3ms/step - loss: 0.4362 - accuracy: 0.8465\n",
            "Epoch 4/20\n",
            "656/656 [==============================] - 2s 3ms/step - loss: 0.3998 - accuracy: 0.8549\n",
            "Epoch 5/20\n",
            "656/656 [==============================] - 2s 3ms/step - loss: 0.3752 - accuracy: 0.8609\n",
            "Epoch 6/20\n",
            "656/656 [==============================] - 2s 3ms/step - loss: 0.3573 - accuracy: 0.8657\n",
            "Epoch 7/20\n",
            "656/656 [==============================] - 3s 4ms/step - loss: 0.3435 - accuracy: 0.8696\n",
            "Epoch 8/20\n",
            "656/656 [==============================] - 2s 3ms/step - loss: 0.3325 - accuracy: 0.8737\n",
            "Epoch 9/20\n",
            "656/656 [==============================] - 2s 3ms/step - loss: 0.3235 - accuracy: 0.8762\n",
            "Epoch 10/20\n",
            "656/656 [==============================] - 2s 3ms/step - loss: 0.3158 - accuracy: 0.8780\n",
            "Epoch 11/20\n",
            "656/656 [==============================] - 2s 3ms/step - loss: 0.3093 - accuracy: 0.8802\n",
            "Epoch 12/20\n",
            "656/656 [==============================] - 2s 3ms/step - loss: 0.3035 - accuracy: 0.8817\n",
            "Epoch 13/20\n",
            "656/656 [==============================] - 3s 4ms/step - loss: 0.2984 - accuracy: 0.8832\n",
            "Epoch 14/20\n",
            "656/656 [==============================] - 2s 3ms/step - loss: 0.2939 - accuracy: 0.8841\n",
            "Epoch 15/20\n",
            "656/656 [==============================] - 2s 3ms/step - loss: 0.2897 - accuracy: 0.8859\n",
            "Epoch 16/20\n",
            "656/656 [==============================] - 2s 3ms/step - loss: 0.2860 - accuracy: 0.8877\n",
            "Epoch 17/20\n",
            "656/656 [==============================] - 2s 3ms/step - loss: 0.2825 - accuracy: 0.8883\n",
            "Epoch 18/20\n",
            "656/656 [==============================] - 3s 4ms/step - loss: 0.2793 - accuracy: 0.8893\n",
            "Epoch 19/20\n",
            "656/656 [==============================] - 2s 4ms/step - loss: 0.2764 - accuracy: 0.8913\n",
            "Epoch 20/20\n",
            "656/656 [==============================] - 2s 3ms/step - loss: 0.2736 - accuracy: 0.8927\n",
            "656/656 [==============================] - 1s 2ms/step\n",
            "Training Accuracy is 0.8938584779706275\n",
            "281/281 [==============================] - 0s 2ms/step\n",
            "Shape of X_dtm is now (20972, 5001)\n",
            "... Processing Physics\n",
            "Epoch 1/20\n",
            "656/656 [==============================] - 3s 4ms/step - loss: 0.5384 - accuracy: 0.7484\n",
            "Epoch 2/20\n",
            "656/656 [==============================] - 2s 3ms/step - loss: 0.3955 - accuracy: 0.8602\n",
            "Epoch 3/20\n",
            "656/656 [==============================] - 2s 3ms/step - loss: 0.3242 - accuracy: 0.9033\n",
            "Epoch 4/20\n",
            "656/656 [==============================] - 2s 3ms/step - loss: 0.2797 - accuracy: 0.9169\n",
            "Epoch 5/20\n",
            "656/656 [==============================] - 2s 3ms/step - loss: 0.2499 - accuracy: 0.9236\n",
            "Epoch 6/20\n",
            "656/656 [==============================] - 2s 4ms/step - loss: 0.2287 - accuracy: 0.9294\n",
            "Epoch 7/20\n",
            "656/656 [==============================] - 3s 4ms/step - loss: 0.2128 - accuracy: 0.9323\n",
            "Epoch 8/20\n",
            "656/656 [==============================] - 2s 3ms/step - loss: 0.2005 - accuracy: 0.9347\n",
            "Epoch 9/20\n",
            "656/656 [==============================] - 2s 3ms/step - loss: 0.1907 - accuracy: 0.9366\n",
            "Epoch 10/20\n",
            "656/656 [==============================] - 2s 3ms/step - loss: 0.1826 - accuracy: 0.9382\n",
            "Epoch 11/20\n",
            "656/656 [==============================] - 2s 3ms/step - loss: 0.1758 - accuracy: 0.9394\n",
            "Epoch 12/20\n",
            "656/656 [==============================] - 2s 4ms/step - loss: 0.1699 - accuracy: 0.9407\n",
            "Epoch 13/20\n",
            "656/656 [==============================] - 2s 4ms/step - loss: 0.1648 - accuracy: 0.9423\n",
            "Epoch 14/20\n",
            "656/656 [==============================] - 2s 3ms/step - loss: 0.1603 - accuracy: 0.9438\n",
            "Epoch 15/20\n",
            "656/656 [==============================] - 2s 3ms/step - loss: 0.1562 - accuracy: 0.9449\n",
            "Epoch 16/20\n",
            "656/656 [==============================] - 2s 3ms/step - loss: 0.1525 - accuracy: 0.9460\n",
            "Epoch 17/20\n",
            "656/656 [==============================] - 2s 3ms/step - loss: 0.1492 - accuracy: 0.9470\n",
            "Epoch 18/20\n",
            "656/656 [==============================] - 3s 5ms/step - loss: 0.1461 - accuracy: 0.9478\n",
            "Epoch 19/20\n",
            "656/656 [==============================] - 2s 3ms/step - loss: 0.1433 - accuracy: 0.9488\n",
            "Epoch 20/20\n",
            "656/656 [==============================] - 2s 3ms/step - loss: 0.1406 - accuracy: 0.9496\n",
            "656/656 [==============================] - 1s 2ms/step\n",
            "Training Accuracy is 0.9505054358191874\n",
            "281/281 [==============================] - 0s 2ms/step\n",
            "Shape of X_dtm is now (20972, 5001)\n",
            "... Processing Mathematics\n",
            "Epoch 1/20\n",
            "656/656 [==============================] - 3s 3ms/step - loss: 0.5278 - accuracy: 0.7393\n",
            "Epoch 2/20\n",
            "656/656 [==============================] - 2s 3ms/step - loss: 0.4014 - accuracy: 0.8224\n",
            "Epoch 3/20\n",
            "656/656 [==============================] - 2s 3ms/step - loss: 0.3416 - accuracy: 0.8807\n",
            "Epoch 4/20\n",
            "656/656 [==============================] - 2s 3ms/step - loss: 0.3042 - accuracy: 0.8965\n",
            "Epoch 5/20\n",
            "656/656 [==============================] - 2s 3ms/step - loss: 0.2794 - accuracy: 0.9041\n",
            "Epoch 6/20\n",
            "656/656 [==============================] - 3s 4ms/step - loss: 0.2620 - accuracy: 0.9072\n",
            "Epoch 7/20\n",
            "656/656 [==============================] - 2s 3ms/step - loss: 0.2492 - accuracy: 0.9097\n",
            "Epoch 8/20\n",
            "656/656 [==============================] - 2s 3ms/step - loss: 0.2392 - accuracy: 0.9114\n",
            "Epoch 9/20\n",
            "656/656 [==============================] - 2s 3ms/step - loss: 0.2312 - accuracy: 0.9125\n",
            "Epoch 10/20\n",
            "656/656 [==============================] - 2s 3ms/step - loss: 0.2246 - accuracy: 0.9144\n",
            "Epoch 11/20\n",
            "656/656 [==============================] - 2s 3ms/step - loss: 0.2190 - accuracy: 0.9154\n",
            "Epoch 12/20\n",
            "656/656 [==============================] - 3s 4ms/step - loss: 0.2142 - accuracy: 0.9169\n",
            "Epoch 13/20\n",
            "656/656 [==============================] - 2s 3ms/step - loss: 0.2098 - accuracy: 0.9180\n",
            "Epoch 14/20\n",
            "656/656 [==============================] - 2s 3ms/step - loss: 0.2060 - accuracy: 0.9191\n",
            "Epoch 15/20\n",
            "656/656 [==============================] - 2s 3ms/step - loss: 0.2025 - accuracy: 0.9202\n",
            "Epoch 16/20\n",
            "656/656 [==============================] - 2s 3ms/step - loss: 0.1993 - accuracy: 0.9212\n",
            "Epoch 17/20\n",
            "656/656 [==============================] - 2s 3ms/step - loss: 0.1964 - accuracy: 0.9214\n",
            "Epoch 18/20\n",
            "656/656 [==============================] - 3s 4ms/step - loss: 0.1937 - accuracy: 0.9223\n",
            "Epoch 19/20\n",
            "656/656 [==============================] - 2s 4ms/step - loss: 0.1911 - accuracy: 0.9235\n",
            "Epoch 20/20\n",
            "656/656 [==============================] - 2s 3ms/step - loss: 0.1887 - accuracy: 0.9239\n",
            "656/656 [==============================] - 1s 2ms/step\n",
            "Training Accuracy is 0.9250905969864581\n",
            "281/281 [==============================] - 0s 2ms/step\n",
            "Shape of X_dtm is now (20972, 5001)\n",
            "... Processing Statistics\n",
            "Epoch 1/20\n",
            "656/656 [==============================] - 3s 4ms/step - loss: 0.5561 - accuracy: 0.7495\n",
            "Epoch 2/20\n",
            "656/656 [==============================] - 2s 3ms/step - loss: 0.4424 - accuracy: 0.7716\n",
            "Epoch 3/20\n",
            "656/656 [==============================] - 2s 3ms/step - loss: 0.3853 - accuracy: 0.8212\n",
            "Epoch 4/20\n",
            "656/656 [==============================] - 2s 3ms/step - loss: 0.3479 - accuracy: 0.8531\n",
            "Epoch 5/20\n",
            "656/656 [==============================] - 2s 3ms/step - loss: 0.3219 - accuracy: 0.8679\n",
            "Epoch 6/20\n",
            "656/656 [==============================] - 2s 4ms/step - loss: 0.3029 - accuracy: 0.8789\n",
            "Epoch 7/20\n",
            "656/656 [==============================] - 2s 4ms/step - loss: 0.2884 - accuracy: 0.8845\n",
            "Epoch 8/20\n",
            "656/656 [==============================] - 2s 3ms/step - loss: 0.2771 - accuracy: 0.8888\n",
            "Epoch 9/20\n",
            "656/656 [==============================] - 2s 3ms/step - loss: 0.2679 - accuracy: 0.8917\n",
            "Epoch 10/20\n",
            "656/656 [==============================] - 2s 3ms/step - loss: 0.2603 - accuracy: 0.8938\n",
            "Epoch 11/20\n",
            "656/656 [==============================] - 2s 3ms/step - loss: 0.2539 - accuracy: 0.8957\n",
            "Epoch 12/20\n",
            "656/656 [==============================] - 3s 4ms/step - loss: 0.2484 - accuracy: 0.8983\n",
            "Epoch 13/20\n",
            "656/656 [==============================] - 2s 3ms/step - loss: 0.2437 - accuracy: 0.8993\n",
            "Epoch 14/20\n",
            "656/656 [==============================] - 2s 3ms/step - loss: 0.2394 - accuracy: 0.9015\n",
            "Epoch 15/20\n",
            "656/656 [==============================] - 2s 3ms/step - loss: 0.2356 - accuracy: 0.9035\n",
            "Epoch 16/20\n",
            "656/656 [==============================] - 2s 3ms/step - loss: 0.2322 - accuracy: 0.9038\n",
            "Epoch 17/20\n",
            "656/656 [==============================] - 2s 3ms/step - loss: 0.2290 - accuracy: 0.9057\n",
            "Epoch 18/20\n",
            "656/656 [==============================] - 3s 4ms/step - loss: 0.2261 - accuracy: 0.9067\n",
            "Epoch 19/20\n",
            "656/656 [==============================] - 2s 3ms/step - loss: 0.2234 - accuracy: 0.9080\n",
            "Epoch 20/20\n",
            "656/656 [==============================] - 2s 3ms/step - loss: 0.2209 - accuracy: 0.9089\n",
            "656/656 [==============================] - 1s 2ms/step\n",
            "Training Accuracy is 0.9102136181575434\n",
            "281/281 [==============================] - 0s 2ms/step\n",
            "Shape of X_dtm is now (20972, 5001)\n",
            "... Processing Quantitative Biology\n",
            "Epoch 1/20\n",
            "656/656 [==============================] - 3s 3ms/step - loss: 0.3537 - accuracy: 0.9695\n",
            "Epoch 2/20\n",
            "656/656 [==============================] - 2s 3ms/step - loss: 0.1629 - accuracy: 0.9720\n",
            "Epoch 3/20\n",
            "656/656 [==============================] - 2s 3ms/step - loss: 0.1304 - accuracy: 0.9720\n",
            "Epoch 4/20\n",
            "656/656 [==============================] - 2s 3ms/step - loss: 0.1182 - accuracy: 0.9720\n",
            "Epoch 5/20\n",
            "656/656 [==============================] - 2s 3ms/step - loss: 0.1102 - accuracy: 0.9720\n",
            "Epoch 6/20\n",
            "656/656 [==============================] - 3s 4ms/step - loss: 0.1036 - accuracy: 0.9720\n",
            "Epoch 7/20\n",
            "656/656 [==============================] - 2s 3ms/step - loss: 0.0975 - accuracy: 0.9720\n",
            "Epoch 8/20\n",
            "656/656 [==============================] - 2s 3ms/step - loss: 0.0918 - accuracy: 0.9720\n",
            "Epoch 9/20\n",
            "656/656 [==============================] - 2s 3ms/step - loss: 0.0865 - accuracy: 0.9720\n",
            "Epoch 10/20\n",
            "656/656 [==============================] - 2s 3ms/step - loss: 0.0816 - accuracy: 0.9722\n",
            "Epoch 11/20\n",
            "656/656 [==============================] - 2s 3ms/step - loss: 0.0772 - accuracy: 0.9727\n",
            "Epoch 12/20\n",
            "656/656 [==============================] - 3s 4ms/step - loss: 0.0732 - accuracy: 0.9735\n",
            "Epoch 13/20\n",
            "656/656 [==============================] - 2s 3ms/step - loss: 0.0696 - accuracy: 0.9743\n",
            "Epoch 14/20\n",
            "656/656 [==============================] - 2s 3ms/step - loss: 0.0664 - accuracy: 0.9751\n",
            "Epoch 15/20\n",
            "656/656 [==============================] - 2s 3ms/step - loss: 0.0636 - accuracy: 0.9755\n",
            "Epoch 16/20\n",
            "656/656 [==============================] - 2s 3ms/step - loss: 0.0610 - accuracy: 0.9765\n",
            "Epoch 17/20\n",
            "656/656 [==============================] - 2s 3ms/step - loss: 0.0587 - accuracy: 0.9772\n",
            "Epoch 18/20\n",
            "656/656 [==============================] - 3s 4ms/step - loss: 0.0565 - accuracy: 0.9778\n",
            "Epoch 19/20\n",
            "656/656 [==============================] - 2s 3ms/step - loss: 0.0546 - accuracy: 0.9785\n",
            "Epoch 20/20\n",
            "656/656 [==============================] - 2s 3ms/step - loss: 0.0528 - accuracy: 0.9794\n",
            "656/656 [==============================] - 2s 2ms/step\n",
            "Training Accuracy is 0.9798302498569521\n",
            "281/281 [==============================] - 0s 2ms/step\n",
            "Shape of X_dtm is now (20972, 5001)\n",
            "... Processing Quantitative Finance\n",
            "Epoch 1/20\n",
            "656/656 [==============================] - 3s 3ms/step - loss: 0.3280 - accuracy: 0.9859\n",
            "Epoch 2/20\n",
            "656/656 [==============================] - 2s 3ms/step - loss: 0.1156 - accuracy: 0.9881\n",
            "Epoch 3/20\n",
            "656/656 [==============================] - 2s 3ms/step - loss: 0.0766 - accuracy: 0.9881\n",
            "Epoch 4/20\n",
            "656/656 [==============================] - 3s 4ms/step - loss: 0.0628 - accuracy: 0.9881\n",
            "Epoch 5/20\n",
            "656/656 [==============================] - 2s 3ms/step - loss: 0.0560 - accuracy: 0.9881\n",
            "Epoch 6/20\n",
            "656/656 [==============================] - 2s 3ms/step - loss: 0.0515 - accuracy: 0.9881\n",
            "Epoch 7/20\n",
            "656/656 [==============================] - 2s 3ms/step - loss: 0.0479 - accuracy: 0.9881\n",
            "Epoch 8/20\n",
            "656/656 [==============================] - 2s 3ms/step - loss: 0.0447 - accuracy: 0.9881\n",
            "Epoch 9/20\n",
            "656/656 [==============================] - 2s 4ms/step - loss: 0.0417 - accuracy: 0.9881\n",
            "Epoch 10/20\n",
            "656/656 [==============================] - 3s 4ms/step - loss: 0.0388 - accuracy: 0.9881\n",
            "Epoch 11/20\n",
            "656/656 [==============================] - 2s 3ms/step - loss: 0.0360 - accuracy: 0.9882\n",
            "Epoch 12/20\n",
            "656/656 [==============================] - 2s 3ms/step - loss: 0.0333 - accuracy: 0.9885\n",
            "Epoch 13/20\n",
            "656/656 [==============================] - 2s 3ms/step - loss: 0.0308 - accuracy: 0.9888\n",
            "Epoch 14/20\n",
            "656/656 [==============================] - 2s 3ms/step - loss: 0.0285 - accuracy: 0.9893\n",
            "Epoch 15/20\n",
            "656/656 [==============================] - 2s 4ms/step - loss: 0.0264 - accuracy: 0.9898\n",
            "Epoch 16/20\n",
            "656/656 [==============================] - 2s 4ms/step - loss: 0.0246 - accuracy: 0.9904\n",
            "Epoch 17/20\n",
            "656/656 [==============================] - 2s 3ms/step - loss: 0.0229 - accuracy: 0.9909\n",
            "Epoch 18/20\n",
            "656/656 [==============================] - 2s 3ms/step - loss: 0.0215 - accuracy: 0.9914\n",
            "Epoch 19/20\n",
            "656/656 [==============================] - 2s 3ms/step - loss: 0.0202 - accuracy: 0.9920\n",
            "Epoch 20/20\n",
            "656/656 [==============================] - 2s 3ms/step - loss: 0.0191 - accuracy: 0.9924\n",
            "656/656 [==============================] - 2s 2ms/step\n",
            "Training Accuracy is 0.9927522410833493\n",
            "281/281 [==============================] - 0s 2ms/step\n",
            "Shape of X_dtm is now (20972, 5001)\n"
          ]
        }
      ]
    },
    {
      "cell_type": "code",
      "source": [
        "\"\"\"\n",
        "Epoch 20/20\n",
        "656/656 [==============================] - 2s 3ms/step - loss: 0.0191 - accuracy: 0.9924\n",
        "656/656 [==============================] - 2s 2ms/step\n",
        "Training Accuracy is 0.9927522410833493\n",
        "\"\""
      ],
      "metadata": {
        "id": "wVxiioMF2LG3"
      },
      "execution_count": null,
      "outputs": []
    },
    {
      "cell_type": "code",
      "source": [],
      "metadata": {
        "id": "V3pDwwpS1Tqh"
      },
      "execution_count": null,
      "outputs": []
    },
    {
      "cell_type": "code",
      "source": [],
      "metadata": {
        "id": "_qilkXOE0qp0"
      },
      "execution_count": null,
      "outputs": []
    }
  ]
}