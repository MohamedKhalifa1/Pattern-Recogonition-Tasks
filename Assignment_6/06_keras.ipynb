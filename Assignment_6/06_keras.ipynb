{
  "nbformat": 4,
  "nbformat_minor": 0,
  "metadata": {
    "colab": {
      "provenance": [],
      "gpuType": "T4"
    },
    "kernelspec": {
      "name": "python3",
      "display_name": "Python 3"
    },
    "language_info": {
      "name": "python"
    },
    "accelerator": "GPU"
  },
  "cells": [
    {
      "cell_type": "code",
      "source": [
        "pip install ucimlrepo"
      ],
      "metadata": {
        "colab": {
          "base_uri": "https://localhost:8080/"
        },
        "id": "0Fe7uipjcKi_",
        "outputId": "cc08277e-8ad3-4b0d-8103-122deae0f34f"
      },
      "execution_count": null,
      "outputs": [
        {
          "output_type": "stream",
          "name": "stdout",
          "text": [
            "Requirement already satisfied: ucimlrepo in /usr/local/lib/python3.10/dist-packages (0.0.6)\n"
          ]
        }
      ]
    },
    {
      "cell_type": "code",
      "source": [
        "import pandas as pd\n",
        "import pylab as pl\n",
        "import numpy as np\n",
        "import seaborn as sns\n",
        "import scipy.optimize as opt\n",
        "from sklearn.model_selection import train_test_split\n",
        "from sklearn.preprocessing import normalize, StandardScaler\n",
        "from sklearn.utils.class_weight import compute_sample_weight\n",
        "import tensorflow as tf\n",
        "from tensorflow.keras import layers, models\n",
        "from sklearn.metrics import confusion_matrix, accuracy_score, precision_score, recall_score, \\\n",
        "f1_score, classification_report,ConfusionMatrixDisplay\n",
        "%matplotlib inline\n",
        "import matplotlib.pyplot as plt\n",
        "from sklearn import datasets\n",
        "import pickle\n",
        "import warnings\n",
        "warnings.simplefilter(action='ignore', category=FutureWarning)\n"
      ],
      "metadata": {
        "id": "ym5x5E3heMWd"
      },
      "execution_count": null,
      "outputs": []
    },
    {
      "cell_type": "code",
      "execution_count": null,
      "metadata": {
        "id": "xKqSEi0wbQFJ"
      },
      "outputs": [],
      "source": [
        "digits = datasets.load_digits()"
      ]
    },
    {
      "cell_type": "code",
      "source": [
        "print(digits.keys())"
      ],
      "metadata": {
        "colab": {
          "base_uri": "https://localhost:8080/"
        },
        "id": "JKXXygKuehST",
        "outputId": "98787c95-d0c7-4b5d-c73a-d77c07084759"
      },
      "execution_count": null,
      "outputs": [
        {
          "output_type": "stream",
          "name": "stdout",
          "text": [
            "dict_keys(['data', 'target', 'frame', 'feature_names', 'target_names', 'images', 'DESCR'])\n"
          ]
        }
      ]
    },
    {
      "cell_type": "code",
      "source": [
        "_, axes = plt.subplots(nrows=1, ncols=4, figsize=(10, 3))\n",
        "for ax, image, label in zip(axes, digits.images, digits.target):\n",
        "    ax.set_axis_off()\n",
        "    ax.imshow(image, cmap=plt.cm.gray_r, interpolation=\"nearest\")\n",
        "    ax.set_title(\"Training: %i\" % label)"
      ],
      "metadata": {
        "colab": {
          "base_uri": "https://localhost:8080/",
          "height": 227
        },
        "id": "1k_4oB1wekAN",
        "outputId": "1f3c2d9d-6792-4ed8-bbba-6f2b7adfee8c"
      },
      "execution_count": null,
      "outputs": [
        {
          "output_type": "display_data",
          "data": {
            "text/plain": [
              "<Figure size 1000x300 with 4 Axes>"
            ],
            "image/png": "[encoded data removed]"
          },
          "metadata": {}
        }
      ]
    },
    {
      "cell_type": "code",
      "source": [
        "X = digits.data\n",
        "y = digits.target"
      ],
      "metadata": {
        "id": "Imh9jbold_Gi"
      },
      "execution_count": null,
      "outputs": []
    },
    {
      "cell_type": "code",
      "source": [
        "X_train, X_test, y_train, y_test = train_test_split(X,y, test_size = 0.2, random_state=365, stratify=y)"
      ],
      "metadata": {
        "id": "rGKlSRRre53_"
      },
      "execution_count": null,
      "outputs": []
    },
    {
      "cell_type": "code",
      "source": [
        "y_train = np.asarray(y_train)\n",
        "y_test = np.asarray(y_test)"
      ],
      "metadata": {
        "id": "lzXoZRLFe_W5"
      },
      "execution_count": null,
      "outputs": []
    },
    {
      "cell_type": "code",
      "source": [
        "x_train = np.asarray(X_train)\n",
        "x_test = np.asarray(X_test)"
      ],
      "metadata": {
        "id": "PR0obA34fBxz"
      },
      "execution_count": null,
      "outputs": []
    },
    {
      "cell_type": "code",
      "source": [
        "print ('Train set:', x_train.shape,  y_train.shape)\n",
        "print ('Test set:', x_test.shape,  y_test.shape)"
      ],
      "metadata": {
        "colab": {
          "base_uri": "https://localhost:8080/"
        },
        "id": "jy8DFDVIfEz1",
        "outputId": "ba013083-359d-46ce-88f0-ac25a5cbc144"
      },
      "execution_count": null,
      "outputs": [
        {
          "output_type": "stream",
          "name": "stdout",
          "text": [
            "Train set: (1437, 64) (1437,)\n",
            "Test set: (360, 64) (360,)\n"
          ]
        }
      ]
    },
    {
      "cell_type": "code",
      "source": [
        "scaler = StandardScaler()\n",
        "x_train = scaler.fit_transform(x_train)\n",
        "x_test =  scaler.transform(x_test)"
      ],
      "metadata": {
        "id": "rT2Vf8ULfGtG"
      },
      "execution_count": null,
      "outputs": []
    },
    {
      "cell_type": "code",
      "source": [
        "x_train[0:1]"
      ],
      "metadata": {
        "colab": {
          "base_uri": "https://localhost:8080/"
        },
        "id": "PMMtfwWefMft",
        "outputId": "b806e8d3-3782-4d46-9963-ebeba2a785f7"
      },
      "execution_count": null,
      "outputs": [
        {
          "output_type": "execute_result",
          "data": {
            "text/plain": [
              "array([[ 0.00000000e+00, -3.43522453e-01, -1.08776211e+00,\n",
              "         5.18147431e-01,  5.00750353e-01, -8.50731595e-01,\n",
              "        -4.14062562e-01, -1.18360259e-01, -6.14166374e-02,\n",
              "        -6.23118365e-01, -1.35331965e+00,  1.00765120e+00,\n",
              "         7.80339320e-01, -1.34980940e+00, -5.27415197e-01,\n",
              "        -1.23461326e-01, -4.31180707e-02, -7.24233758e-01,\n",
              "         2.59160002e-02,  1.54091713e+00, -8.33759940e-01,\n",
              "        -1.26209985e+00, -5.56012746e-01, -1.10838322e-01,\n",
              "        -3.73326696e-02, -7.82510131e-01,  1.11850575e+00,\n",
              "         1.20945342e+00, -3.16262962e-01, -7.75552997e-01,\n",
              "        -6.28330510e-01, -5.28331981e-02,  0.00000000e+00,\n",
              "         1.89076623e-01,  1.31722859e+00,  9.31162753e-01,\n",
              "        -3.83603266e-01,  8.96120344e-01, -2.60895231e-01,\n",
              "         0.00000000e+00, -6.76445597e-02, -5.28955643e-01,\n",
              "         1.39154365e+00,  5.74674359e-01, -1.22628912e+00,\n",
              "         4.80034264e-01,  1.52388036e+00, -8.55950017e-02,\n",
              "        -2.94608883e-02, -4.13726082e-01,  2.65284929e-01,\n",
              "         8.43407606e-01, -4.59852056e-01,  1.20541442e+00,\n",
              "         1.29219499e+00, -1.98347258e-01,  0.00000000e+00,\n",
              "        -3.12229605e-01, -1.08574600e+00, -1.25818993e-03,\n",
              "         8.56067408e-01,  1.23565456e+00, -2.55156063e-01,\n",
              "        -1.86034069e-01]])"
            ]
          },
          "metadata": {},
          "execution_count": 12
        }
      ]
    },
    {
      "cell_type": "code",
      "source": [
        "def create_feedforward_nn(input_shape, num_classes):\n",
        "    model = models.Sequential([\n",
        "        layers.Flatten(input_shape=input_shape),\n",
        "        layers.Dense(128, activation='relu'),\n",
        "        layers.Dense(64, activation='relu'),\n",
        "        layers.Dense(num_classes, activation='softmax')\n",
        "    ])\n",
        "\n",
        "\n",
        "    model.compile(optimizer='adam',\n",
        "                  loss='sparse_categorical_crossentropy',\n",
        "                  metrics=['accuracy'])\n",
        "    return model\n"
      ],
      "metadata": {
        "id": "WnGYPDsYfOa9"
      },
      "execution_count": null,
      "outputs": []
    },
    {
      "cell_type": "code",
      "source": [
        "input_shape = (64,)\n",
        "num_classes = 10\n",
        "\n",
        "model = create_feedforward_nn(input_shape, num_classes)"
      ],
      "metadata": {
        "id": "sCEYcKaof8Ru"
      },
      "execution_count": null,
      "outputs": []
    },
    {
      "cell_type": "code",
      "source": [
        "model.fit(X_train, y_train, epochs=10, batch_size=32, validation_data=(X_test, y_test))"
      ],
      "metadata": {
        "colab": {
          "base_uri": "https://localhost:8080/"
        },
        "id": "N30ZsNaqgHIv",
        "outputId": "0477da42-07a4-4081-e95a-5684e50e44e1"
      },
      "execution_count": null,
      "outputs": [
        {
          "output_type": "stream",
          "name": "stdout",
          "text": [
            "Epoch 1/10\n",
            "45/45 [==============================] - 2s 8ms/step - loss: 1.8394 - accuracy: 0.5365 - val_loss: 0.4808 - val_accuracy: 0.8472\n",
            "Epoch 2/10\n",
            "45/45 [==============================] - 0s 4ms/step - loss: 0.3414 - accuracy: 0.9033 - val_loss: 0.2273 - val_accuracy: 0.9306\n",
            "Epoch 3/10\n",
            "45/45 [==============================] - 0s 4ms/step - loss: 0.1772 - accuracy: 0.9506 - val_loss: 0.1822 - val_accuracy: 0.9444\n",
            "Epoch 4/10\n",
            "45/45 [==============================] - 0s 5ms/step - loss: 0.1246 - accuracy: 0.9694 - val_loss: 0.1378 - val_accuracy: 0.9583\n",
            "Epoch 5/10\n",
            "45/45 [==============================] - 0s 4ms/step - loss: 0.0873 - accuracy: 0.9798 - val_loss: 0.1140 - val_accuracy: 0.9667\n",
            "Epoch 6/10\n",
            "45/45 [==============================] - 0s 4ms/step - loss: 0.0721 - accuracy: 0.9819 - val_loss: 0.1115 - val_accuracy: 0.9556\n",
            "Epoch 7/10\n",
            "45/45 [==============================] - 0s 5ms/step - loss: 0.0614 - accuracy: 0.9812 - val_loss: 0.0974 - val_accuracy: 0.9778\n",
            "Epoch 8/10\n",
            "45/45 [==============================] - 0s 4ms/step - loss: 0.0342 - accuracy: 0.9944 - val_loss: 0.0953 - val_accuracy: 0.9722\n",
            "Epoch 9/10\n",
            "45/45 [==============================] - 0s 5ms/step - loss: 0.0255 - accuracy: 0.9965 - val_loss: 0.0911 - val_accuracy: 0.9750\n",
            "Epoch 10/10\n",
            "45/45 [==============================] - 0s 4ms/step - loss: 0.0178 - accuracy: 1.0000 - val_loss: 0.0820 - val_accuracy: 0.9806\n"
          ]
        },
        {
          "output_type": "execute_result",
          "data": {
            "text/plain": [
              "<keras.src.callbacks.History at 0x79e86068b0d0>"
            ]
          },
          "metadata": {},
          "execution_count": 15
        }
      ]
    },
    {
      "cell_type": "code",
      "source": [
        "test_loss, test_accuracy = model.evaluate(X_test, y_test)\n",
        "print(f\"Test Accuracy: {test_accuracy}\")\n",
        "print(f\"Test Loss: {test_loss}\")"
      ],
      "metadata": {
        "colab": {
          "base_uri": "https://localhost:8080/"
        },
        "id": "qeo5BPgTgJbq",
        "outputId": "3befddee-2a23-4007-83d9-55869f506345"
      },
      "execution_count": null,
      "outputs": [
        {
          "output_type": "stream",
          "name": "stdout",
          "text": [
            "12/12 [==============================] - 0s 2ms/step - loss: 0.0820 - accuracy: 0.9806\n",
            "Test Accuracy: 0.980555534362793\n",
            "Test Loss: 0.08204019069671631\n"
          ]
        }
      ]
    },
    {
      "cell_type": "code",
      "source": [],
      "metadata": {
        "id": "WQBIocmPgMnt"
      },
      "execution_count": null,
      "outputs": []
    }
  ]
}