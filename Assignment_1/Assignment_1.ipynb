{
  "nbformat": 4,
  "nbformat_minor": 0,
  "metadata": {
    "colab": {
      "provenance": []
    },
    "kernelspec": {
      "name": "python3",
      "display_name": "Python 3"
    },
    "language_info": {
      "name": "python"
    }
  },
  "cells": [
    {
      "cell_type": "code",
      "execution_count": null,
      "metadata": {
        "id": "s1LjkQTiNREy"
      },
      "outputs": [],
      "source": [
        "import numpy as np"
      ]
    },
    {
      "cell_type": "code",
      "source": [
        "def f(x):\n",
        "    return (x - 1)**3"
      ],
      "metadata": {
        "id": "b-DVoBWrNx-4"
      },
      "execution_count": null,
      "outputs": []
    },
    {
      "cell_type": "code",
      "source": [
        "def df(x):\n",
        "    return 3*(x - 1)"
      ],
      "metadata": {
        "id": "rSLoe7cCN15A"
      },
      "execution_count": null,
      "outputs": []
    },
    {
      "cell_type": "code",
      "source": [
        "def gradient_descent(initial_x, learning_rate, max_iters):\n",
        "    x = initial_x\n",
        "    for _ in range(max_iters):\n",
        "        gradient = df(x)\n",
        "        x -= learning_rate * gradient\n",
        "    return x"
      ],
      "metadata": {
        "id": "sov5n32NN5PY"
      },
      "execution_count": null,
      "outputs": []
    },
    {
      "cell_type": "code",
      "source": [
        "initial_x = 0\n",
        "learning_rate = 0.1\n",
        "max_iters = 5000\n",
        "\n",
        "min_value = gradient_descent(initial_x, learning_rate, max_iters)\n",
        "min_f = f(min_value)\n",
        "\n",
        "print(\"Minimum value of f(x) is approximately:\", min_f)\n",
        "print(\"Value of x at the minimum:\", min_value)"
      ],
      "metadata": {
        "colab": {
          "base_uri": "https://localhost:8080/"
        },
        "id": "zYJaBDd8N78U",
        "outputId": "d49f3e16-7106-4851-de46-e925b1d6e02f"
      },
      "execution_count": null,
      "outputs": [
        {
          "output_type": "stream",
          "name": "stdout",
          "text": [
            "Minimum value of f(x) is approximately: -1.3684555315672042e-48\n",
            "Value of x at the minimum: 0.9999999999999999\n"
          ]
        }
      ]
    }
  ]
}