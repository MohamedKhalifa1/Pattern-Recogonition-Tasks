{
  "nbformat": 4,
  "nbformat_minor": 0,
  "metadata": {
    "colab": {
      "provenance": [],
      "gpuType": "T4"
    },
    "kernelspec": {
      "name": "python3",
      "display_name": "Python 3"
    },
    "language_info": {
      "name": "python"
    },
    "accelerator": "GPU"
  },
  "cells": [
    {
      "cell_type": "code",
      "source": [
        "pip install ucimlrepo"
      ],
      "metadata": {
        "colab": {
          "base_uri": "https://localhost:8080/"
        },
        "id": "0Fe7uipjcKi_",
        "outputId": "04ebb11b-94a7-45a4-8501-9c2ecb6d80b7"
      },
      "execution_count": null,
      "outputs": [
        {
          "output_type": "stream",
          "name": "stdout",
          "text": [
            "Collecting ucimlrepo\n",
            "  Downloading ucimlrepo-0.0.6-py3-none-any.whl (8.0 kB)\n",
            "Installing collected packages: ucimlrepo\n",
            "Successfully installed ucimlrepo-0.0.6\n"
          ]
        }
      ]
    },
    {
      "cell_type": "code",
      "source": [
        "import pandas as pd\n",
        "import pylab as pl\n",
        "import numpy as np\n",
        "import seaborn as sns\n",
        "import scipy.optimize as opt\n",
        "from sklearn.model_selection import train_test_split\n",
        "from sklearn.preprocessing import normalize, StandardScaler\n",
        "from sklearn.utils.class_weight import compute_sample_weight\n",
        "import tensorflow as tf\n",
        "from tensorflow.keras import layers, models\n",
        "from sklearn.metrics import confusion_matrix, accuracy_score, precision_score, recall_score, \\\n",
        "f1_score, classification_report,ConfusionMatrixDisplay\n",
        "%matplotlib inline\n",
        "import matplotlib.pyplot as plt\n",
        "from sklearn import datasets\n",
        "import pickle\n",
        "import warnings\n",
        "warnings.simplefilter(action='ignore', category=FutureWarning)\n"
      ],
      "metadata": {
        "id": "ym5x5E3heMWd"
      },
      "execution_count": null,
      "outputs": []
    },
    {
      "cell_type": "code",
      "execution_count": null,
      "metadata": {
        "id": "xKqSEi0wbQFJ"
      },
      "outputs": [],
      "source": [
        "digits = datasets.load_digits()"
      ]
    },
    {
      "cell_type": "code",
      "source": [
        "print(digits.keys())"
      ],
      "metadata": {
        "colab": {
          "base_uri": "https://localhost:8080/"
        },
        "id": "JKXXygKuehST",
        "outputId": "cb05fca5-74b0-4dfd-8223-e44d44236ada"
      },
      "execution_count": null,
      "outputs": [
        {
          "output_type": "stream",
          "name": "stdout",
          "text": [
            "dict_keys(['data', 'target', 'frame', 'feature_names', 'target_names', 'images', 'DESCR'])\n"
          ]
        }
      ]
    },
    {
      "cell_type": "code",
      "source": [
        "_, axes = plt.subplots(nrows=1, ncols=4, figsize=(10, 3))\n",
        "for ax, image, label in zip(axes, digits.images, digits.target):\n",
        "    ax.set_axis_off()\n",
        "    ax.imshow(image, cmap=plt.cm.gray_r, interpolation=\"nearest\")\n",
        "    ax.set_title(\"Training: %i\" % label)"
      ],
      "metadata": {
        "colab": {
          "base_uri": "https://localhost:8080/",
          "height": 227
        },
        "id": "1k_4oB1wekAN",
        "outputId": "17f753e7-3da4-4c63-ada1-387a10e3da0d"
      },
      "execution_count": null,
      "outputs": [
        {
          "output_type": "display_data",
          "data": {
            "text/plain": [
              "<Figure size 1000x300 with 4 Axes>"
            ],
            "image/png": "[encoded data removed]"
          },
          "metadata": {}
        }
      ]
    },
    {
      "cell_type": "code",
      "source": [
        "X = digits.data\n",
        "y = digits.target"
      ],
      "metadata": {
        "id": "Imh9jbold_Gi"
      },
      "execution_count": null,
      "outputs": []
    },
    {
      "cell_type": "code",
      "source": [
        "X_train, X_test, y_train, y_test = train_test_split(X,y, test_size = 0.2, random_state=365, stratify=y)\n",
        "X_val, X_test, y_val, y_test = train_test_split(X,y, test_size = 0.5, random_state=365, stratify=y)"
      ],
      "metadata": {
        "id": "rGKlSRRre53_"
      },
      "execution_count": null,
      "outputs": []
    },
    {
      "cell_type": "code",
      "source": [
        "y_train = np.asarray(y_train)\n",
        "y_test = np.asarray(y_test)\n",
        "y_val = np.asarray(y_val)"
      ],
      "metadata": {
        "id": "lzXoZRLFe_W5"
      },
      "execution_count": null,
      "outputs": []
    },
    {
      "cell_type": "code",
      "source": [
        "x_train = np.asarray(X_train)\n",
        "x_test = np.asarray(X_test)\n",
        "X_val = np.asarray(X_val)"
      ],
      "metadata": {
        "id": "PR0obA34fBxz"
      },
      "execution_count": null,
      "outputs": []
    },
    {
      "cell_type": "code",
      "source": [
        "print ('Train set:', x_train.shape,  y_train.shape)\n",
        "print ('Test set:', x_test.shape,  y_test.shape)\n",
        "print ('Validation set:', X_val.shape,  y_val.shape)"
      ],
      "metadata": {
        "colab": {
          "base_uri": "https://localhost:8080/"
        },
        "id": "jy8DFDVIfEz1",
        "outputId": "755ed3f8-0932-40af-c85e-3795566de7f5"
      },
      "execution_count": null,
      "outputs": [
        {
          "output_type": "stream",
          "name": "stdout",
          "text": [
            "Train set: (1437, 64) (1437,)\n",
            "Test set: (899, 64) (899,)\n",
            "Validation set: (898, 64) (898,)\n"
          ]
        }
      ]
    },
    {
      "cell_type": "code",
      "source": [
        "scaler = StandardScaler()\n",
        "x_train = scaler.fit_transform(x_train)\n",
        "x_test =  scaler.transform(x_test)\n",
        "X_val =  scaler.transform(X_val)"
      ],
      "metadata": {
        "id": "rT2Vf8ULfGtG"
      },
      "execution_count": null,
      "outputs": []
    },
    {
      "cell_type": "code",
      "source": [
        "x_train[0:1]"
      ],
      "metadata": {
        "colab": {
          "base_uri": "https://localhost:8080/"
        },
        "id": "PMMtfwWefMft",
        "outputId": "a4cfb6d1-beaa-416a-96ce-6ea0d8d7208c"
      },
      "execution_count": null,
      "outputs": [
        {
          "output_type": "execute_result",
          "data": {
            "text/plain": [
              "array([[ 0.00000000e+00, -3.43522453e-01, -1.08776211e+00,\n",
              "         5.18147431e-01,  5.00750353e-01, -8.50731595e-01,\n",
              "        -4.14062562e-01, -1.18360259e-01, -6.14166374e-02,\n",
              "        -6.23118365e-01, -1.35331965e+00,  1.00765120e+00,\n",
              "         7.80339320e-01, -1.34980940e+00, -5.27415197e-01,\n",
              "        -1.23461326e-01, -4.31180707e-02, -7.24233758e-01,\n",
              "         2.59160002e-02,  1.54091713e+00, -8.33759940e-01,\n",
              "        -1.26209985e+00, -5.56012746e-01, -1.10838322e-01,\n",
              "        -3.73326696e-02, -7.82510131e-01,  1.11850575e+00,\n",
              "         1.20945342e+00, -3.16262962e-01, -7.75552997e-01,\n",
              "        -6.28330510e-01, -5.28331981e-02,  0.00000000e+00,\n",
              "         1.89076623e-01,  1.31722859e+00,  9.31162753e-01,\n",
              "        -3.83603266e-01,  8.96120344e-01, -2.60895231e-01,\n",
              "         0.00000000e+00, -6.76445597e-02, -5.28955643e-01,\n",
              "         1.39154365e+00,  5.74674359e-01, -1.22628912e+00,\n",
              "         4.80034264e-01,  1.52388036e+00, -8.55950017e-02,\n",
              "        -2.94608883e-02, -4.13726082e-01,  2.65284929e-01,\n",
              "         8.43407606e-01, -4.59852056e-01,  1.20541442e+00,\n",
              "         1.29219499e+00, -1.98347258e-01,  0.00000000e+00,\n",
              "        -3.12229605e-01, -1.08574600e+00, -1.25818993e-03,\n",
              "         8.56067408e-01,  1.23565456e+00, -2.55156063e-01,\n",
              "        -1.86034069e-01]])"
            ]
          },
          "metadata": {},
          "execution_count": 42
        }
      ]
    },
    {
      "cell_type": "code",
      "source": [
        "import numpy as np\n",
        "\n",
        "class FeedForwardNN:\n",
        "    def __init__(self, input_shape, num_classes):\n",
        "        self.input_shape = input_shape\n",
        "        self.num_classes = num_classes\n",
        "        self.weights = []\n",
        "        self.biases = []\n",
        "        self.activations = []\n",
        "        self.dropout_probs = []\n",
        "\n",
        "    def add_layer(self, num_units, activation, dropout_prob=None):\n",
        "        self.weights.append(np.random.randn(self.input_shape[-1], num_units))\n",
        "        self.biases.append(np.zeros((1, num_units)))\n",
        "        self.activations.append(activation)\n",
        "        self.dropout_probs.append(dropout_prob)\n",
        "        self.input_shape = (1, num_units)\n",
        "\n",
        "    def forward_pass(self, X, training=False):\n",
        "        activations = [X]\n",
        "        dropout_masks = []\n",
        "\n",
        "        for i in range(len(self.weights)):\n",
        "            Z = np.dot(activations[-1], self.weights[i]) + self.biases[i]\n",
        "\n",
        "            if self.activations[i] == 'relu':\n",
        "                A = np.maximum(0, Z)\n",
        "            elif self.activations[i] == 'softmax':\n",
        "                exps = np.exp(Z - np.max(Z, axis=1, keepdims=True))\n",
        "                A = exps / np.sum(exps, axis=1, keepdims=True)\n",
        "            else:\n",
        "                raise NotImplementedError(\"Activation function not implemented\")\n",
        "\n",
        "            if training and self.dropout_probs[i] is not None:\n",
        "                mask = (np.random.rand(*A.shape) < self.dropout_probs[i]) / self.dropout_probs[i]\n",
        "                A *= mask\n",
        "                dropout_masks.append(mask)\n",
        "\n",
        "            activations.append(A)\n",
        "\n",
        "        return activations[-1], dropout_masks\n",
        "\n",
        "    def compile_model(self):\n",
        "        def softmax(x):\n",
        "            exps = np.exp(x - np.max(x, axis=1, keepdims=True))\n",
        "            return exps / np.sum(exps, axis=1, keepdims=True)\n",
        "\n",
        "        def relu(x):\n",
        "            return np.maximum(0, x)\n",
        "\n",
        "        activation_functions = {'relu': relu, 'softmax': softmax}\n",
        "\n",
        "        self.activations = [activation_functions[act] for act in self.activations]\n",
        "\n",
        "    def compile(self):\n",
        "        self.compile_model()\n",
        "\n",
        "    def fit(self, X, y, X_val, y_val, epochs, learning_rate):\n",
        "      train_losses = []\n",
        "      val_losses = []\n",
        "      val_accuracies = []\n",
        "\n",
        "      for epoch in range(epochs):\n",
        "\n",
        "          train_activations = [X]\n",
        "          for i in range(len(self.weights)):\n",
        "              Z_train = np.dot(train_activations[-1], self.weights[i]) + self.biases[i]\n",
        "              A_train = self.activations[i](Z_train)\n",
        "              train_activations.append(A_train)\n",
        "\n",
        "          train_output = train_activations[-1]\n",
        "\n",
        "\n",
        "          m_train = y.shape[0]\n",
        "          train_loss = -np.sum(np.log(train_output[np.arange(m_train), y] + 1e-10)) / m_train\n",
        "          train_losses.append(train_loss)\n",
        "\n",
        "\n",
        "          train_predictions = np.argmax(train_output, axis=1)\n",
        "          train_accuracy = np.mean(train_predictions == y)\n",
        "\n",
        "\n",
        "          val_activations = [X_val]\n",
        "          for i in range(len(self.weights)):\n",
        "              Z_val = np.dot(val_activations[-1], self.weights[i]) + self.biases[i]\n",
        "              A_val = self.activations[i](Z_val)\n",
        "              val_activations.append(A_val)\n",
        "\n",
        "          val_output = val_activations[-1]\n",
        "\n",
        "\n",
        "          m_val = y_val.shape[0]\n",
        "          val_loss = -np.sum(np.log(val_output[np.arange(m_val), y_val] + 1e-111)) / m_val\n",
        "          val_losses.append(val_loss)\n",
        "\n",
        "\n",
        "          val_predictions = np.argmax(val_output, axis=1)\n",
        "          val_accuracy = np.mean(val_predictions == y_val)\n",
        "          val_accuracies.append(val_accuracy)\n",
        "\n",
        "\n",
        "\n",
        "          dZ_train = train_output.copy()\n",
        "\n",
        "\n",
        "          dZ_train[np.arange(m_train), y] -= 1\n",
        "\n",
        "\n",
        "          for i in range(len(self.weights) - 1, -1, -1):\n",
        "\n",
        "              dW = np.dot(train_activations[i].T, dZ_train) / m_train\n",
        "              db = np.sum(dZ_train, axis=0, keepdims=True) / m_train\n",
        "\n",
        "\n",
        "              self.weights[i] -= learning_rate * dW\n",
        "              self.biases[i] -= learning_rate * db\n",
        "\n",
        "              if i > 0:\n",
        "                  dZ_train = np.dot(dZ_train, self.weights[i].T) * (train_activations[i] > 0)\n",
        "              else:\n",
        "                  dZ_train = np.dot(dZ_train, self.weights[i].T)\n",
        "\n",
        "\n",
        "\n",
        "\n",
        "          if epoch % 1 == 0:\n",
        "              print(f'Epoch {epoch}, Train Loss: {train_loss}, Train Accuracy: {train_accuracy}, Val Loss: {val_loss}, Val Accuracy: {val_accuracy}')\n",
        "\n",
        "      return train_losses, val_losses, val_accuracies\n",
        "\n",
        "\n",
        "    def evaluate(self, X, y):\n",
        "        predictions = np.argmax(self.forward_pass(X), axis=1)\n",
        "        accuracy = np.mean(predictions == y)\n",
        "        return accuracy\n",
        "\n",
        "def create_feedforward_nn(input_shape, num_classes):\n",
        "    model = FeedForwardNN(input_shape, num_classes)\n",
        "    model.add_layer(1024, 'relu')\n",
        "    model.add_layer(1024, 'relu')\n",
        "    model.add_layer(512, 'relu')\n",
        "    model.add_layer(512, 'relu')\n",
        "    model.add_layer(512, 'relu')\n",
        "    model.add_layer(256, 'relu')\n",
        "    model.add_layer(128, 'relu')\n",
        "    model.add_layer(64, 'relu')\n",
        "    model.add_layer(num_classes, 'softmax')\n",
        "    model.compile()\n",
        "    return model\n"
      ],
      "metadata": {
        "id": "WnGYPDsYfOa9"
      },
      "execution_count": null,
      "outputs": []
    },
    {
      "cell_type": "code",
      "source": [
        "input_shape = (64, )\n",
        "num_classes = 10\n",
        "model = create_feedforward_nn(input_shape, num_classes)\n",
        "\n",
        "train_losses, val_losses, val_accuracies = model.fit(X_train, y_train, X_val, y_val, epochs=10, learning_rate=1e-4)"
      ],
      "metadata": {
        "colab": {
          "base_uri": "https://localhost:8080/"
        },
        "id": "vQPPgLcDiLN5",
        "outputId": "f7f6da17-0ad1-4606-fbcb-d0c8ec68c4aa"
      },
      "execution_count": null,
      "outputs": [
        {
          "output_type": "stream",
          "name": "stderr",
          "text": [
            "<ipython-input-62-9d4d98323535>:119: RuntimeWarning: invalid value encountered in multiply\n",
            "  dZ_train = np.dot(dZ_train, self.weights[i].T) * (train_activations[i] > 0)\n"
          ]
        },
        {
          "output_type": "stream",
          "name": "stdout",
          "text": [
            "Epoch 0, Train Loss: 20.702435213269705, Train Accuracy: 0.10090466249130133, Val Loss: 235.66368677828143, Val Accuracy: 0.0779510022271715\n",
            "Epoch 1, Train Loss: nan, Train Accuracy: 0.09881697981906751, Val Loss: nan, Val Accuracy: 0.09910913140311804\n",
            "Epoch 2, Train Loss: nan, Train Accuracy: 0.09881697981906751, Val Loss: nan, Val Accuracy: 0.09910913140311804\n",
            "Epoch 3, Train Loss: nan, Train Accuracy: 0.09881697981906751, Val Loss: nan, Val Accuracy: 0.09910913140311804\n",
            "Epoch 4, Train Loss: nan, Train Accuracy: 0.09881697981906751, Val Loss: nan, Val Accuracy: 0.09910913140311804\n",
            "Epoch 5, Train Loss: nan, Train Accuracy: 0.09881697981906751, Val Loss: nan, Val Accuracy: 0.09910913140311804\n",
            "Epoch 6, Train Loss: nan, Train Accuracy: 0.09881697981906751, Val Loss: nan, Val Accuracy: 0.09910913140311804\n",
            "Epoch 7, Train Loss: nan, Train Accuracy: 0.09881697981906751, Val Loss: nan, Val Accuracy: 0.09910913140311804\n",
            "Epoch 8, Train Loss: nan, Train Accuracy: 0.09881697981906751, Val Loss: nan, Val Accuracy: 0.09910913140311804\n",
            "Epoch 9, Train Loss: nan, Train Accuracy: 0.09881697981906751, Val Loss: nan, Val Accuracy: 0.09910913140311804\n"
          ]
        }
      ]
    }
  ]
}